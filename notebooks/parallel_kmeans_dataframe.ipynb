{
 "cells": [
  {
   "cell_type": "code",
   "execution_count": null,
   "metadata": {},
   "outputs": [],
   "source": [
    "!pip install scikit-learn\n",
    "!pip install scipy"
   ]
  },
  {
   "cell_type": "code",
   "execution_count": 4,
   "metadata": {},
   "outputs": [],
   "source": [
    "from sklearn.datasets import fetch_kddcup99"
   ]
  },
  {
   "cell_type": "code",
   "execution_count": 1,
   "metadata": {},
   "outputs": [],
   "source": [
    "from pyspark.sql import SparkSession, Window\n",
    "from pyspark.sql.functions import col, udf, array, min as smin, lit, count, isnan, when, sum as ssum\n",
    "from pyspark.sql.types import IntegerType, FloatType\n",
    "from pyspark.ml.feature import MinMaxScaler, VectorAssembler\n",
    "\n",
    "import numpy as np\n",
    "import matplotlib.pyplot as plt\n",
    "import pandas as pd"
   ]
  },
  {
   "cell_type": "markdown",
   "metadata": {},
   "source": [
    "# Creating a Spark session"
   ]
  },
  {
   "cell_type": "code",
   "execution_count": 2,
   "metadata": {},
   "outputs": [
    {
     "name": "stderr",
     "output_type": "stream",
     "text": [
      "Setting default log level to \"WARN\".\n",
      "To adjust logging level use sc.setLogLevel(newLevel). For SparkR, use setLogLevel(newLevel).\n"
     ]
    },
    {
     "name": "stdout",
     "output_type": "stream",
     "text": [
      "23/07/11 07:00:04 WARN NativeCodeLoader: Unable to load native-hadoop library for your platform... using builtin-java classes where applicable\n"
     ]
    }
   ],
   "source": [
    "spark = SparkSession.builder \\\n",
    "    .master(\"spark://spark-master:7077\") \\\n",
    "    .appName(\"k-meaner\") \\\n",
    "    .config(\"spark.executor.memory\", \"1024m\") \\\n",
    "    .config(\"spark.sql.execution.arrow.pyspark.enabled\", \"true\") \\\n",
    "    .config(\"spark.sql.execution.arrow.pyspark.fallback.enabled\", \"false\") \\\n",
    "    .getOrCreate()\n",
    "\n",
    "sc = spark.sparkContext\n",
    "sc.setLogLevel(\"ERROR\")\n",
    "\n",
    "#clear old data if rerunning\n",
    "spark.catalog.clearCache() \n",
    "for (id, rdd) in sc._jsc.getPersistentRDDs().items():\n",
    "    rdd.unpersist()"
   ]
  },
  {
   "cell_type": "markdown",
   "metadata": {},
   "source": [
    "# Loading the `kddcup99` dataset"
   ]
  },
  {
   "cell_type": "code",
   "execution_count": 5,
   "metadata": {},
   "outputs": [
    {
     "name": "stderr",
     "output_type": "stream",
     "text": [
      "/usr/bin/spark-3.3.2-bin-hadoop3/python/pyspark/sql/pandas/conversion.py:604: FutureWarning: iteritems is deprecated and will be removed in a future version. Use .items instead.\n",
      "  [(c, t) for (_, c), t in zip(pdf_slice.iteritems(), arrow_types)]\n"
     ]
    }
   ],
   "source": [
    "kdd = spark.createDataFrame(fetch_kddcup99(as_frame=True)[\"frame\"])"
   ]
  },
  {
   "cell_type": "markdown",
   "metadata": {},
   "source": [
    "# Pre-processing\n",
    "We remove the first three “categorical” columns, and keep only the numerical ones. Then we rescale those to a [0, 1] range. Also, we remove two columns that happen to be all zeros. After all, this shouldn’t affect the clustering afterwards."
   ]
  },
  {
   "cell_type": "code",
   "execution_count": 6,
   "metadata": {},
   "outputs": [
    {
     "name": "stdout",
     "output_type": "stream",
     "text": [
      "root\n",
      " |-- duration: long (nullable = true)\n",
      " |-- protocol_type: binary (nullable = true)\n",
      " |-- service: binary (nullable = true)\n",
      " |-- flag: binary (nullable = true)\n",
      " |-- src_bytes: long (nullable = true)\n",
      " |-- dst_bytes: long (nullable = true)\n",
      " |-- land: long (nullable = true)\n",
      " |-- wrong_fragment: long (nullable = true)\n",
      " |-- urgent: long (nullable = true)\n",
      " |-- hot: long (nullable = true)\n",
      " |-- num_failed_logins: long (nullable = true)\n",
      " |-- logged_in: long (nullable = true)\n",
      " |-- num_compromised: long (nullable = true)\n",
      " |-- root_shell: long (nullable = true)\n",
      " |-- su_attempted: long (nullable = true)\n",
      " |-- num_root: long (nullable = true)\n",
      " |-- num_file_creations: long (nullable = true)\n",
      " |-- num_shells: long (nullable = true)\n",
      " |-- num_access_files: long (nullable = true)\n",
      " |-- num_outbound_cmds: long (nullable = true)\n",
      " |-- is_host_login: long (nullable = true)\n",
      " |-- is_guest_login: long (nullable = true)\n",
      " |-- count: long (nullable = true)\n",
      " |-- srv_count: long (nullable = true)\n",
      " |-- serror_rate: double (nullable = true)\n",
      " |-- srv_serror_rate: double (nullable = true)\n",
      " |-- rerror_rate: double (nullable = true)\n",
      " |-- srv_rerror_rate: double (nullable = true)\n",
      " |-- same_srv_rate: double (nullable = true)\n",
      " |-- diff_srv_rate: double (nullable = true)\n",
      " |-- srv_diff_host_rate: double (nullable = true)\n",
      " |-- dst_host_count: long (nullable = true)\n",
      " |-- dst_host_srv_count: long (nullable = true)\n",
      " |-- dst_host_same_srv_rate: double (nullable = true)\n",
      " |-- dst_host_diff_srv_rate: double (nullable = true)\n",
      " |-- dst_host_same_src_port_rate: double (nullable = true)\n",
      " |-- dst_host_srv_diff_host_rate: double (nullable = true)\n",
      " |-- dst_host_serror_rate: double (nullable = true)\n",
      " |-- dst_host_srv_serror_rate: double (nullable = true)\n",
      " |-- dst_host_rerror_rate: double (nullable = true)\n",
      " |-- dst_host_srv_rerror_rate: double (nullable = true)\n",
      " |-- labels: binary (nullable = true)\n",
      "\n"
     ]
    }
   ],
   "source": [
    "kdd.printSchema()"
   ]
  },
  {
   "cell_type": "code",
   "execution_count": 7,
   "metadata": {},
   "outputs": [
    {
     "name": "stderr",
     "output_type": "stream",
     "text": [
      "                                                                                \r"
     ]
    },
    {
     "name": "stdout",
     "output_type": "stream",
     "text": [
      "unsupported operand type(s) for -: 'bytearray' and 'bytearray'\n"
     ]
    }
   ],
   "source": [
    "kdd = kdd.drop(\"protocol_type\")\n",
    "kdd = kdd.drop(\"service\") \n",
    "kdd = kdd.drop(\"flag\")\n",
    "\n",
    "kdd.createOrReplaceTempView(\"kdd_table\")\n",
    "\n",
    "for c in kdd.columns:\n",
    "    try:\n",
    "        limits = spark.sql(\"SELECT min(\" + c + \"), max(\" + c + \") FROM kdd_table\").collect()\n",
    "        #mx = kdd.groupby().max(c).first().asDict()['max('+c+')']\n",
    "        #mn = kdd.groupby().min(c).first().asDict()['min('+c+')']\n",
    "        mn, mx = limits[0][0], limits[0][1]\n",
    "        \n",
    "        if mn==mx:\n",
    "            continue\n",
    "        \n",
    "        \n",
    "        kdd = kdd.withColumn(c, (col(c)-mn)/(mx-mn) )\n",
    "        \n",
    "        #print(limits[0][0], limits[0][1])\n",
    "    except Exception as e:\n",
    "        print(e)\n",
    "\n",
    "#kdd.take(1)\n",
    "#help(kdd)\n",
    "\n",
    "#for c in kdd.columns:\n",
    "#    kdd.schema[c].nullable=False\n",
    "\n",
    "#kdd = spark.createDataFrame(kdd.rdd, kdd.schema)\n",
    "kdd = kdd.persist()\n",
    "#kdd.select([count(when(isnan(c) | col(c).isNull(), c)).alias(c) for c in kdd.columns if c not in [\"labels\"]]).show()"
   ]
  },
  {
   "cell_type": "code",
   "execution_count": 8,
   "metadata": {},
   "outputs": [
    {
     "name": "stdout",
     "output_type": "stream",
     "text": [
      "root\n",
      " |-- duration: double (nullable = true)\n",
      " |-- src_bytes: double (nullable = true)\n",
      " |-- dst_bytes: double (nullable = true)\n",
      " |-- land: double (nullable = true)\n",
      " |-- wrong_fragment: double (nullable = true)\n",
      " |-- urgent: double (nullable = true)\n",
      " |-- hot: double (nullable = true)\n",
      " |-- num_failed_logins: double (nullable = true)\n",
      " |-- logged_in: double (nullable = true)\n",
      " |-- num_compromised: double (nullable = true)\n",
      " |-- root_shell: double (nullable = true)\n",
      " |-- su_attempted: double (nullable = true)\n",
      " |-- num_root: double (nullable = true)\n",
      " |-- num_file_creations: double (nullable = true)\n",
      " |-- num_shells: double (nullable = true)\n",
      " |-- num_access_files: double (nullable = true)\n",
      " |-- num_outbound_cmds: long (nullable = true)\n",
      " |-- is_host_login: long (nullable = true)\n",
      " |-- is_guest_login: double (nullable = true)\n",
      " |-- count: double (nullable = true)\n",
      " |-- srv_count: double (nullable = true)\n",
      " |-- serror_rate: double (nullable = true)\n",
      " |-- srv_serror_rate: double (nullable = true)\n",
      " |-- rerror_rate: double (nullable = true)\n",
      " |-- srv_rerror_rate: double (nullable = true)\n",
      " |-- same_srv_rate: double (nullable = true)\n",
      " |-- diff_srv_rate: double (nullable = true)\n",
      " |-- srv_diff_host_rate: double (nullable = true)\n",
      " |-- dst_host_count: double (nullable = true)\n",
      " |-- dst_host_srv_count: double (nullable = true)\n",
      " |-- dst_host_same_srv_rate: double (nullable = true)\n",
      " |-- dst_host_diff_srv_rate: double (nullable = true)\n",
      " |-- dst_host_same_src_port_rate: double (nullable = true)\n",
      " |-- dst_host_srv_diff_host_rate: double (nullable = true)\n",
      " |-- dst_host_serror_rate: double (nullable = true)\n",
      " |-- dst_host_srv_serror_rate: double (nullable = true)\n",
      " |-- dst_host_rerror_rate: double (nullable = true)\n",
      " |-- dst_host_srv_rerror_rate: double (nullable = true)\n",
      " |-- labels: binary (nullable = true)\n",
      "\n"
     ]
    }
   ],
   "source": [
    "kdd.printSchema()\n",
    "\n",
    "#kdd.select(array([c for c in kdd.columns if c!=\"labels\"])).take(1)[0][0]"
   ]
  },
  {
   "cell_type": "markdown",
   "metadata": {},
   "source": [
    "assembler = VectorAssembler(inputCols=[c for c in kdd.columns if c not in [\"protocol_type\", \"service\", \"flag\", \"labels\"]], outputCol=\"features\")\n",
    "assembled_df = assembler.transform(kdd)\n",
    "\n",
    "scaler = MinMaxScaler(inputCol=\"features\", outputCol=\"scaled_features\")\n",
    "scaler_model = scaler.fit(assembled_df)\n",
    "normalized_data = scaler_model.transform(assembled_df)"
   ]
  },
  {
   "cell_type": "markdown",
   "metadata": {},
   "source": [
    "### Plotting the distribution of attack types…"
   ]
  },
  {
   "cell_type": "code",
   "execution_count": 9,
   "metadata": {},
   "outputs": [
    {
     "name": "stderr",
     "output_type": "stream",
     "text": [
      "                                                                                \r"
     ]
    }
   ],
   "source": [
    "\"\"\"targets = kdd[1]\n",
    "\n",
    "attacks, counts = np.unique(targets, return_counts=True)\n",
    "ypos = np.arange(len(attacks))\n",
    "\n",
    "attack_sort = np.argsort(counts)\n",
    "attacks = attacks[attack_sort]\n",
    "counts = counts[attack_sort]\n",
    "\"\"\"\n",
    "res = spark.sql(\"SELECT labels, count(1) FROM kdd_table GROUP BY labels\").collect()"
   ]
  },
  {
   "cell_type": "code",
   "execution_count": 10,
   "metadata": {},
   "outputs": [
    {
     "name": "stderr",
     "output_type": "stream",
     "text": [
      "/tmp/ipykernel_1449/2946778956.py:1: VisibleDeprecationWarning: Creating an ndarray from ragged nested sequences (which is a list-or-tuple of lists-or-tuples-or ndarrays with different lengths or shapes) is deprecated. If you meant to do this, you must specify 'dtype=object' when creating the ndarray.\n",
      "  attacks = np.array([r[0] for r in res])\n"
     ]
    }
   ],
   "source": [
    "attacks = np.array([r[0] for r in res])\n",
    "counts = np.array([r[1] for r in res])\n",
    "attack_sort = np.argsort(counts)\n",
    "attacks = attacks[attack_sort]\n",
    "counts = counts[attack_sort]\n",
    "\n",
    "ypos = np.arange(len(attacks))"
   ]
  },
  {
   "cell_type": "code",
   "execution_count": 11,
   "metadata": {
    "scrolled": false
   },
   "outputs": [
    {
     "data": {
      "image/png": "[encoded data removed]",
      "text/plain": [
       "<Figure size 1200x600 with 1 Axes>"
      ]
     },
     "metadata": {},
     "output_type": "display_data"
    }
   ],
   "source": [
    "plt.figure(figsize=(12, 6))\n",
    "plt.barh(ypos, np.log10(counts), facecolor=\"gold\")\n",
    "plt.yticks(ypos, labels=[a.decode(\"utf-8\")[0:-1] for a in attacks])\n",
    "plt.xlabel(r\"$\\log_{10}(\\mathrm{count})$\")\n",
    "plt.ylabel(\"Attack type\")\n",
    "plt.show()"
   ]
  },
  {
   "cell_type": "markdown",
   "metadata": {},
   "source": [
    "## Start on k-means basic algo"
   ]
  },
  {
   "cell_type": "code",
   "execution_count": 12,
   "metadata": {},
   "outputs": [],
   "source": [
    "index_udf = udf(lambda row:attacks.tolist().index(row) )\n",
    "kdd = kdd.withColumn(\"labels\", index_udf(col(\"labels\")).cast(\"int\"))"
   ]
  },
  {
   "cell_type": "code",
   "execution_count": 13,
   "metadata": {},
   "outputs": [],
   "source": [
    "ignored_cols = [\"labels\", \"centr\", \"cost\", \"p\", \"w\"]"
   ]
  },
  {
   "cell_type": "code",
   "execution_count": 14,
   "metadata": {},
   "outputs": [],
   "source": [
    "kdd = kdd.withColumn(\"centr\", lit(-1))\n",
    "kdd = kdd.withColumn(\"cost\", lit(0.))\n",
    "kdd = kdd.withColumn(\"p\", lit(0.))\n",
    "ncols = len([c in kdd.columns if c not in ignored_cols])"
   ]
  },
  {
   "cell_type": "code",
   "execution_count": 15,
   "metadata": {},
   "outputs": [
    {
     "data": {
      "text/plain": [
       "DataFrame[duration: double, src_bytes: double, dst_bytes: double, land: double, wrong_fragment: double, urgent: double, hot: double, num_failed_logins: double, logged_in: double, num_compromised: double, root_shell: double, su_attempted: double, num_root: double, num_file_creations: double, num_shells: double, num_access_files: double, num_outbound_cmds: bigint, is_host_login: bigint, is_guest_login: double, count: double, srv_count: double, serror_rate: double, srv_serror_rate: double, rerror_rate: double, srv_rerror_rate: double, same_srv_rate: double, diff_srv_rate: double, srv_diff_host_rate: double, dst_host_count: double, dst_host_srv_count: double, dst_host_same_srv_rate: double, dst_host_diff_srv_rate: double, dst_host_same_src_port_rate: double, dst_host_srv_diff_host_rate: double, dst_host_serror_rate: double, dst_host_srv_serror_rate: double, dst_host_rerror_rate: double, dst_host_srv_rerror_rate: double, labels: int, centr: int, cost: double, p: double]"
      ]
     },
     "execution_count": 15,
     "metadata": {},
     "output_type": "execute_result"
    }
   ],
   "source": [
    "kdd"
   ]
  },
  {
   "cell_type": "code",
   "execution_count": 16,
   "metadata": {},
   "outputs": [],
   "source": [
    "def dist(x,y):\n",
    "    try:\n",
    "        #return (((np.array(x)-y)**2).sum())**0.5\n",
    "        return np.linalg.norm(np.array(x)-np.array(y))\n",
    "    except Exception as e:\n",
    "        print(e)\n",
    "        return ncols\n",
    "\n",
    "def argcomp(comp,func, arr, *params):\n",
    "    res = [func(arr[i], *params) for i in range(len(arr))]\n",
    "    #print(res)\n",
    "    return res.index(comp(res))\n",
    "\n",
    "#udist=udf(dist, FloatType())\n",
    "\n",
    "#distance_udf = udf(lambda x,y:  np.linalg.norm(x-y), FloatType())"
   ]
  },
  {
   "cell_type": "code",
   "execution_count": 36,
   "metadata": {},
   "outputs": [],
   "source": [
    "###################################### actual k-means \n",
    "def kmeans(data, centers, max_iter=10, weighted=False, local_centr=False):\n",
    "    count = 0\n",
    "    if weighted and \"w\" not in ignored_cols:\n",
    "        ignored_cols.append(\"w\")\n",
    "    \n",
    "    #print(ignored_cols)\n",
    "    \n",
    "    while True:\n",
    "        if local_centr:\n",
    "            cc = centers\n",
    "            local_centr = False\n",
    "        else:\n",
    "            cc = centers.collect()\n",
    "        #print(cc)\n",
    "        \n",
    "        argmindist_udf = udf(lambda row: argcomp(min,dist,cc,row), IntegerType())\n",
    "        \n",
    "        data = data.withColumn(\"centr\", argmindist_udf(array([c for c in data.columns if c not in ignored_cols])))\n",
    "        \n",
    "        if not weighted:\n",
    "            newcenters = data.groupBy(\"centr\").mean().select(*[col(\"avg(\"+c+\")\") for c in data.columns if c not in ignored_cols])\n",
    "        else:\n",
    "            #newcenters = data.groupBy(\"centr\").agg(ssum(array([c for c in data.columns if c not in ignored_cols]) * col(\"w\"))/ssum(col(\"w\")))\n",
    "            newcenters = data.rdd.map(\n",
    "                lambda x: (x[\"centr\"],(x[[c for c in data.columns if c not in ignored_cols]],x[\"w\"]))\n",
    "            ).reduceByKey(\n",
    "                lambda x,y: ((x[0]*x[1]+y[0]*y[1])/(x[1]+y[1]), x[1]+y[1])\n",
    "            ).map(lambda x: x[1][0]).collect()\n",
    "        \n",
    "        centers = newcenters\n",
    "        \n",
    "        count+=1\n",
    "        if count>max_iter:#(newcenters-centers).mean() < 0.01:\n",
    "            break\n",
    "            \n",
    "    \n",
    "    return data, centers"
   ]
  },
  {
   "cell_type": "code",
   "execution_count": null,
   "metadata": {},
   "outputs": [],
   "source": [
    "centers = pd.DataFrame(np.random.random(size=(len(attacks), ncols)))\n",
    "centers = spark.createDataFrame(centers)"
   ]
  },
  {
   "cell_type": "code",
   "execution_count": null,
   "metadata": {},
   "outputs": [],
   "source": [
    "finaldata, newcenters = kmeans(kdd, centers)"
   ]
  },
  {
   "cell_type": "code",
   "execution_count": null,
   "metadata": {},
   "outputs": [],
   "source": [
    "newcenters.collect()"
   ]
  },
  {
   "cell_type": "code",
   "execution_count": null,
   "metadata": {},
   "outputs": [],
   "source": [
    "finaldata.take(1)"
   ]
  },
  {
   "cell_type": "markdown",
   "metadata": {},
   "source": [
    "##### check results\n",
    "#print(d, len(d))\n",
    "mat = [[0 for i in range(4)] for j in range(4)]\n",
    "for i in range(4):\n",
    "    for j in range(4):\n",
    "        for k in range(len(d)):\n",
    "            mat[i][j] += ((d[k][\"labels\"] == i) and (d[k][\"centr\"] == j))\n",
    "mat"
   ]
  },
  {
   "cell_type": "markdown",
   "metadata": {},
   "source": [
    "## K-means||"
   ]
  },
  {
   "cell_type": "code",
   "execution_count": 60,
   "metadata": {},
   "outputs": [],
   "source": [
    "def kmeans_parallel(data, k, l):\n",
    "    centr = data.select(array([c for c in data.columns if c not in ignored_cols])).rdd.takeSample(True,2)\n",
    "    #define get_cost using udf on min(dist(row,centr[i]))\n",
    "    get_cost = udf(lambda row: str(min([dist(row, cen)**2 for cen in centr])))\n",
    "    \n",
    "    data = data.withColumn(\"cost\", get_cost(array([c for c in data.columns if c not in ignored_cols])).cast(\"double\"))\n",
    "    \n",
    "    cost = data.select(\"cost\").groupBy().sum().collect()[0][0]\n",
    "    \n",
    "    for i in range(int(np.log(cost))):\n",
    "        #re-define get_cost using udf on min(dist(row,centr[i]))\n",
    "        get_cost = udf(lambda row: str(min([dist(row, cen)**2 for cen in centr])))\n",
    "        data = data.withColumn(\"cost\", get_cost(array([c for c in data.columns if c not in ignored_cols])).cast(\"double\"))\n",
    "        #data = data.orderBy(\"cost\")\n",
    "        cost = data.select(\"cost\").groupBy().sum().collect()[0][0]\n",
    "        #print(cost, type(cost), cost.__repr__(), cost.__str__())\n",
    "        #data.withColumn(\"p\", data.select(\"cost\").cumsum()/cost)\n",
    "        \n",
    "        #data = data.withColumn('p', ssum('cost').over(Window.orderBy('cost')))\n",
    "        data = data.withColumn(\"p\", udf(lambda row: np.random.random())(col(\"cost\")))\n",
    "        #for j in range(l):\n",
    "        centr.extend( data.where( data[\"cost\"] * l > cost * data[\"p\"]).select(array([c for c in data.columns if c not in ignored_cols])).collect() )\n",
    "    \n",
    "    ## search for possible identical centroids\n",
    "    \n",
    "    if len(centr) > k: \n",
    "        #get weights\n",
    "        testdata, _ = kmeans(data, centr, max_iter=0, local_centr=True)\n",
    "        counts = testdata.groupBy(\"centr\").count().collect()\n",
    "        counts = sorted(counts)\n",
    "        \n",
    "        #parallelize the centroid dataset\n",
    "        cdata = spark.createDataFrame(pd.DataFrame([[*centr[i][0], counts[i][1]] for i in range(len(centr))], columns=(0,1,\"w\")))\n",
    "        cdata = cdata.withColumn(\"w\", col(\"w\").cast(\"double\"))\n",
    "        \n",
    "        ## basically kmeans++ on the centroids as init for the weighted k-means\n",
    "        c = [centr[np.random.randint(len(centr))]]\n",
    "        for i in range(k-1):\n",
    "            costs = [min([dist(centr[j], c[k])**2 for k in range(len(c))]) for j in range(len(centr))]\n",
    "            p = np.cumsum(costs)\n",
    "            p/= p[-1]\n",
    "            c.append(centr[(p>np.random.random()).tolist().index(True)])\n",
    "        \n",
    "        \n",
    "        _, centr = kmeans(cdata, c, local_centr=True, weighted=False)\n",
    "        centr = centr.collect()\n",
    "    return centr"
   ]
  },
  {
   "cell_type": "code",
   "execution_count": 19,
   "metadata": {},
   "outputs": [
    {
     "data": {
      "text/plain": [
       "array([[ 1.18946178, -1.52111456],\n",
       "       [ 1.44214084,  1.42465786],\n",
       "       [-1.33776911, -1.30446645],\n",
       "       [-1.6671827 ,  1.20488231],\n",
       "       [-1.94315469,  1.47622494],\n",
       "       [ 1.34337418,  1.7136656 ],\n",
       "       [-1.95799365, -1.64670533],\n",
       "       [-1.75184475, -1.18446244],\n",
       "       [ 1.64118196,  1.47643712],\n",
       "       [ 1.2442104 ,  1.47349929],\n",
       "       [ 1.31294382,  1.97316066],\n",
       "       [-1.40211217,  1.95587461],\n",
       "       [ 1.51510826, -1.72672348],\n",
       "       [ 1.88706578,  1.43376629],\n",
       "       [ 1.81640447,  1.24690204],\n",
       "       [ 1.16269445,  1.67897831],\n",
       "       [ 1.7746885 ,  1.12369617],\n",
       "       [-1.25548775, -1.57287236],\n",
       "       [ 1.66516095,  1.44333411],\n",
       "       [-1.83490093, -1.1344411 ],\n",
       "       [-1.36728365,  1.63600021],\n",
       "       [-1.26873427,  1.3623533 ],\n",
       "       [-1.75623782, -1.24922077],\n",
       "       [-1.7858631 , -1.26419029],\n",
       "       [ 1.78240109,  1.24095159],\n",
       "       [-1.1416934 , -1.50303821],\n",
       "       [-1.22515177, -1.67705692],\n",
       "       [ 1.90754976,  1.08287739],\n",
       "       [-1.12525579,  1.13284141],\n",
       "       [-1.14165489,  1.54914893],\n",
       "       [-1.22345787,  1.46543707],\n",
       "       [-1.98540439, -1.08212343],\n",
       "       [ 1.43308252, -1.67530532],\n",
       "       [ 1.01683484,  1.46619733],\n",
       "       [-1.90559457,  1.50277876],\n",
       "       [ 1.83039087, -1.77987267],\n",
       "       [ 1.11665485,  1.14040795],\n",
       "       [ 1.87026374, -1.00399653],\n",
       "       [-1.11399511,  1.74016311],\n",
       "       [ 1.39088455, -1.33315632],\n",
       "       [ 1.10701182, -1.59950702],\n",
       "       [ 1.26496627,  1.36835372],\n",
       "       [ 1.88534324, -1.41054459],\n",
       "       [ 1.90581207, -1.27151191],\n",
       "       [-1.99666918,  1.57886849],\n",
       "       [ 1.587591  ,  1.77819009],\n",
       "       [ 1.29162303,  1.95970326],\n",
       "       [-1.75066177, -1.08428567],\n",
       "       [ 1.54517888,  1.64258993],\n",
       "       [ 1.57252876, -1.53411852],\n",
       "       [ 1.27588484, -1.10457682],\n",
       "       [ 1.88833132,  1.50630278],\n",
       "       [ 1.21253553,  1.93114534],\n",
       "       [-1.23106878,  1.16552567],\n",
       "       [ 1.4949049 , -1.18171168],\n",
       "       [ 1.18125317,  1.01120657],\n",
       "       [-1.29274048, -1.94549645],\n",
       "       [ 1.58431671,  1.39901937],\n",
       "       [-1.90844298, -1.31420713],\n",
       "       [-1.23359481, -1.87521393],\n",
       "       [-1.11037388, -1.8695359 ],\n",
       "       [-1.19431202,  1.12806161],\n",
       "       [-1.44788314,  1.7247289 ],\n",
       "       [ 1.9126018 ,  1.73398412],\n",
       "       [ 1.48910091, -1.91873048],\n",
       "       [ 1.75391524, -1.88475409],\n",
       "       [-1.44741092,  1.29374703],\n",
       "       [-1.37093823, -1.14992927],\n",
       "       [-1.92261297,  1.03826322],\n",
       "       [-1.84005801,  1.4695215 ],\n",
       "       [-1.73980006, -1.2294692 ],\n",
       "       [ 1.0182688 , -1.12582877],\n",
       "       [-1.87267504, -1.03972076],\n",
       "       [-1.81559466,  1.31128967],\n",
       "       [ 1.96273202, -1.01288889],\n",
       "       [ 1.30436724, -1.37894412],\n",
       "       [-1.54397071, -1.63046629],\n",
       "       [ 1.8294487 ,  1.69579681],\n",
       "       [-1.84006962,  1.28560725],\n",
       "       [-1.16833048, -1.10809568],\n",
       "       [ 1.23757293, -1.2956282 ],\n",
       "       [ 1.89760866,  1.56612716],\n",
       "       [ 1.96872257, -1.7666285 ],\n",
       "       [-1.08654758,  1.55620986],\n",
       "       [ 1.55669188, -1.50583277],\n",
       "       [-1.34427292,  1.35261488],\n",
       "       [-1.26910386,  1.31327237],\n",
       "       [-1.71654902,  1.87674721],\n",
       "       [-1.81520628, -1.2262402 ],\n",
       "       [-1.8541569 , -1.67505034],\n",
       "       [ 1.29853811,  1.9692016 ],\n",
       "       [-1.12068034,  1.79908804],\n",
       "       [-1.89950481, -1.76107908],\n",
       "       [ 1.85406628, -1.85573944],\n",
       "       [-1.17644065,  1.82935274],\n",
       "       [-1.40781643, -1.84838087],\n",
       "       [-1.50779815, -1.80134807],\n",
       "       [ 1.44973901,  1.59943294],\n",
       "       [ 1.36019137,  1.20671199],\n",
       "       [ 1.60992558, -1.49058594],\n",
       "       [ 1.36338504, -1.38182477],\n",
       "       [-1.85765036, -1.66210906],\n",
       "       [-1.11641218,  1.72836484],\n",
       "       [-1.52121469, -1.28227327],\n",
       "       [ 1.75202908,  1.80825438],\n",
       "       [-1.15863222,  1.97459737],\n",
       "       [-1.41284857, -1.32491489],\n",
       "       [-1.54697185,  1.82712971],\n",
       "       [-1.34125566,  1.89122688],\n",
       "       [-1.90290808,  1.85259754],\n",
       "       [-1.01766478,  1.44618914],\n",
       "       [-1.35241029,  1.72685229],\n",
       "       [-1.0014373 , -1.87019847],\n",
       "       [ 1.4501656 , -1.97059441],\n",
       "       [ 1.64718512, -1.70346621],\n",
       "       [ 1.34770186, -1.06122735],\n",
       "       [ 1.62763871,  1.1458858 ],\n",
       "       [ 1.88620978,  1.38531876],\n",
       "       [ 1.63197041,  1.76021022],\n",
       "       [ 1.05708755,  1.11485405],\n",
       "       [-1.97370127, -1.87030914],\n",
       "       [-1.01491559, -1.84508534],\n",
       "       [ 1.52572698, -1.06963062],\n",
       "       [-1.77087172,  1.905034  ],\n",
       "       [ 1.74100706, -1.41103609],\n",
       "       [-1.39448788, -1.25458947],\n",
       "       [ 1.72689274,  1.46858079],\n",
       "       [ 1.39262785,  1.16539982],\n",
       "       [ 1.21656599, -1.73425014],\n",
       "       [-1.72982933, -1.62209349],\n",
       "       [-1.16345506, -1.46770107],\n",
       "       [-1.28036882, -1.67812936],\n",
       "       [ 1.09897321,  1.40840348],\n",
       "       [-1.48372921, -1.03040865],\n",
       "       [ 1.23462444, -1.5011395 ],\n",
       "       [ 1.49401887,  1.52830646],\n",
       "       [-1.89547758,  1.97543153],\n",
       "       [ 1.75123905,  1.36860078],\n",
       "       [-1.88658348,  1.66940483],\n",
       "       [ 1.40257539, -1.55336181],\n",
       "       [ 1.17973809, -1.72245771],\n",
       "       [-1.94832012,  1.64714325],\n",
       "       [-1.92242599,  1.33325311],\n",
       "       [ 1.98722335, -1.55742927],\n",
       "       [-1.60792055, -1.94786698],\n",
       "       [ 1.53608806,  1.3974977 ],\n",
       "       [ 1.98343184, -1.08485217],\n",
       "       [-1.70787724, -1.14937727],\n",
       "       [-1.4477614 ,  1.70245628],\n",
       "       [ 1.28219558, -1.58095197],\n",
       "       [ 1.86522279, -1.27506904],\n",
       "       [ 1.17309084, -1.04214818],\n",
       "       [-1.1215297 ,  1.51587798],\n",
       "       [ 1.44048988, -1.97443551],\n",
       "       [ 1.14034176,  1.56198896],\n",
       "       [ 1.36905246,  1.10297685],\n",
       "       [ 1.35219975,  1.51666292],\n",
       "       [ 1.04775785, -1.38515253],\n",
       "       [-1.42328141,  1.38123285],\n",
       "       [-1.41679818,  1.33491549],\n",
       "       [ 1.52020484,  1.81425189],\n",
       "       [-1.2425702 , -1.96541785],\n",
       "       [ 1.68609059, -1.46838062],\n",
       "       [-1.30789703, -1.31709239],\n",
       "       [-1.03182248,  1.38652492],\n",
       "       [ 1.42206315,  1.0815585 ],\n",
       "       [ 1.08082783, -1.6663314 ],\n",
       "       [-1.69525222,  1.43617872],\n",
       "       [-1.15961278,  1.94400249],\n",
       "       [-1.38634356, -1.77426199],\n",
       "       [-1.63064606, -1.46343363],\n",
       "       [ 1.82857826, -1.86511873],\n",
       "       [ 1.6329618 ,  1.97345165],\n",
       "       [-1.49318   , -1.18885421],\n",
       "       [ 1.4877304 ,  1.73448464],\n",
       "       [-1.542532  , -1.90837615],\n",
       "       [ 1.45009729,  1.01762572],\n",
       "       [ 1.18050987, -1.94888267],\n",
       "       [-1.16382637,  1.78062187],\n",
       "       [ 1.65931122, -1.04495912],\n",
       "       [-1.88237361, -1.03103073],\n",
       "       [ 1.49949021,  1.95530916],\n",
       "       [-1.48311279, -1.47900638],\n",
       "       [ 1.92439461,  1.95573609],\n",
       "       [-1.85808027, -1.88740286],\n",
       "       [-1.27447432, -1.95704542],\n",
       "       [ 1.36508882,  1.73022249],\n",
       "       [ 1.50711094,  1.29422582],\n",
       "       [-1.77529765, -1.90895915],\n",
       "       [ 1.73869461, -1.03841744],\n",
       "       [-1.74074657,  1.03458156],\n",
       "       [ 1.70330098,  1.07370875],\n",
       "       [ 1.03257396, -1.5251731 ],\n",
       "       [-1.67238358, -1.70405657],\n",
       "       [-1.15999526, -1.10644176],\n",
       "       [ 1.62766038,  1.21418665],\n",
       "       [ 1.34248434,  1.01559194],\n",
       "       [-1.69283411,  1.0431881 ],\n",
       "       [-1.08752787,  1.53613692],\n",
       "       [-1.49635764, -1.12980606],\n",
       "       [ 1.11380417,  1.04381858],\n",
       "       [-1.47938762,  1.06475839],\n",
       "       [-1.06709848, -1.56006872],\n",
       "       [ 1.43522511,  1.77093491],\n",
       "       [-1.39378436, -1.9868596 ],\n",
       "       [-1.82694962, -1.23264494],\n",
       "       [-1.70250338,  1.48352318],\n",
       "       [ 1.43924276,  1.68394522],\n",
       "       [ 1.31188613, -1.58665932],\n",
       "       [-1.08127417,  1.55744475],\n",
       "       [ 1.91893922,  1.98836845],\n",
       "       [-1.36578431, -1.57560495],\n",
       "       [-1.03550273,  1.28272937],\n",
       "       [ 1.6324832 , -1.29796555],\n",
       "       [-1.34296413,  1.64188236],\n",
       "       [-1.58489546, -1.04961757],\n",
       "       [-1.58127466, -1.70198039],\n",
       "       [-1.2574017 ,  1.25249907],\n",
       "       [ 1.36371399, -1.44187165],\n",
       "       [-1.64347974, -1.94929562],\n",
       "       [ 1.16704352, -1.17901006],\n",
       "       [ 1.95467449, -1.23511607],\n",
       "       [-1.55138531, -1.02187198],\n",
       "       [ 1.69833333, -1.4657424 ],\n",
       "       [-1.77260805, -1.82847046],\n",
       "       [ 1.45219413,  1.58216217],\n",
       "       [ 1.28090499, -1.60733894],\n",
       "       [ 1.97791229,  1.48832511],\n",
       "       [ 1.70150857,  1.11353715],\n",
       "       [ 1.22432086, -1.89750495],\n",
       "       [ 1.58013164, -1.69276887],\n",
       "       [-1.88804739,  1.07069981],\n",
       "       [ 1.53161903, -1.4856226 ],\n",
       "       [ 1.42106461, -1.74197617],\n",
       "       [-1.52214683, -1.44543845],\n",
       "       [-1.67928159,  1.2924093 ],\n",
       "       [-1.49316542,  1.83278807],\n",
       "       [-1.65885468,  1.17058898],\n",
       "       [ 1.60265473, -1.20483539],\n",
       "       [-1.89925851, -1.40329436],\n",
       "       [-1.02264656,  1.74066796],\n",
       "       [-1.59323381, -1.00291278],\n",
       "       [ 1.62671792,  1.50387764],\n",
       "       [-1.37441428,  1.69723471],\n",
       "       [-1.06130909, -1.3959968 ],\n",
       "       [-1.87469243, -1.5412619 ],\n",
       "       [ 1.35802433,  1.25557411],\n",
       "       [-1.59449547,  1.2524795 ],\n",
       "       [ 1.75318892, -1.46704036],\n",
       "       [ 1.63212984, -1.34675603],\n",
       "       [-1.03089048, -1.96052493],\n",
       "       [-1.85911043,  1.45407004],\n",
       "       [-1.76968519,  1.06878078],\n",
       "       [-1.55219932,  1.49976937],\n",
       "       [ 1.18111238, -1.32913275],\n",
       "       [-1.07307223,  1.08028408],\n",
       "       [-1.26047557, -1.83377209],\n",
       "       [-1.64145861,  1.50610562],\n",
       "       [-1.01980037, -1.10888609],\n",
       "       [-1.37481566,  1.97868895],\n",
       "       [ 1.07830857, -1.88978502],\n",
       "       [ 1.89278216, -1.01489457],\n",
       "       [-1.27920822,  1.76315695],\n",
       "       [-1.44865319, -1.22272067],\n",
       "       [ 1.32006284, -1.28259466],\n",
       "       [ 1.03397145, -1.7130549 ],\n",
       "       [-1.8586455 , -1.55686913],\n",
       "       [-1.88450561,  1.84319385],\n",
       "       [ 1.87595692, -1.72991839],\n",
       "       [ 1.74557782, -1.41013875],\n",
       "       [ 1.1603621 ,  1.58744318],\n",
       "       [ 1.62477516,  1.61010485],\n",
       "       [-1.01467702,  1.28252124],\n",
       "       [ 1.28455307,  1.43180245],\n",
       "       [ 1.86785082,  1.38701279],\n",
       "       [ 1.29536478, -1.18215325],\n",
       "       [-1.94546971, -1.9702046 ],\n",
       "       [-1.07017743,  1.3606262 ],\n",
       "       [-1.14721042,  1.13586071],\n",
       "       [-1.76018268,  1.35066966],\n",
       "       [ 1.8229081 , -1.03877334],\n",
       "       [-1.18055226,  1.06009511],\n",
       "       [ 1.85364584, -1.80960464],\n",
       "       [ 1.53286049, -1.93538685],\n",
       "       [-1.16037574,  1.98759916],\n",
       "       [ 1.3666058 , -1.17913819],\n",
       "       [-1.40696984,  1.64477399],\n",
       "       [-1.79679878,  1.59086619],\n",
       "       [-1.51561639,  1.5767063 ],\n",
       "       [-1.78546823,  1.45533964],\n",
       "       [ 1.51714907,  1.65700466],\n",
       "       [ 1.86553284,  1.82249673],\n",
       "       [-1.71388053,  1.22011099],\n",
       "       [ 1.4757636 ,  1.36231558],\n",
       "       [ 1.648616  , -1.75825971],\n",
       "       [-1.98768094,  1.10215576],\n",
       "       [-1.70895293, -1.96193191],\n",
       "       [ 1.53674011, -1.71786678],\n",
       "       [ 1.45394545, -1.08398779],\n",
       "       [ 1.07929157,  1.76554875]])"
      ]
     },
     "execution_count": 19,
     "metadata": {},
     "output_type": "execute_result"
    }
   ],
   "source": [
    "testdata = np.random.random(size=(300, 2))*2-1\n",
    "testdata[testdata>=0]+=1\n",
    "testdata[testdata<0]-=1\n",
    "testdata"
   ]
  },
  {
   "cell_type": "code",
   "execution_count": 20,
   "metadata": {},
   "outputs": [
    {
     "data": {
      "text/plain": [
       "<matplotlib.collections.PathCollection at 0x7fa2151cf2e0>"
      ]
     },
     "execution_count": 20,
     "metadata": {},
     "output_type": "execute_result"
    },
    {
     "data": {
      "image/png": "[encoded data removed]",
      "text/plain": [
       "<Figure size 640x480 with 1 Axes>"
      ]
     },
     "metadata": {},
     "output_type": "display_data"
    }
   ],
   "source": [
    "plt.scatter([i[0] for i in testdata], [i[1] for i in testdata])"
   ]
  },
  {
   "cell_type": "code",
   "execution_count": 21,
   "metadata": {},
   "outputs": [],
   "source": [
    "testdata=spark.createDataFrame(pd.DataFrame(testdata))"
   ]
  },
  {
   "cell_type": "code",
   "execution_count": 61,
   "metadata": {},
   "outputs": [
    {
     "name": "stderr",
     "output_type": "stream",
     "text": [
      "                                                                                \r"
     ]
    },
    {
     "name": "stdout",
     "output_type": "stream",
     "text": [
      "['labels', 'centr', 'cost', 'p', 'w']\n"
     ]
    },
    {
     "name": "stderr",
     "output_type": "stream",
     "text": [
      "/usr/bin/spark-3.3.2-bin-hadoop3/python/pyspark/sql/pandas/conversion.py:604: FutureWarning: iteritems is deprecated and will be removed in a future version. Use .items instead.\n",
      "  [(c, t) for (_, c), t in zip(pdf_slice.iteritems(), arrow_types)]\n"
     ]
    },
    {
     "name": "stdout",
     "output_type": "stream",
     "text": [
      "['labels', 'centr', 'cost', 'p', 'w']\n"
     ]
    }
   ],
   "source": [
    "c = kmeans_parallel(testdata, 4, 2.5)"
   ]
  },
  {
   "cell_type": "code",
   "execution_count": null,
   "metadata": {
    "scrolled": true
   },
   "outputs": [],
   "source": [
    "#c = kmeans_parallel(kdd, 10, 2.5) ## l should be ~ k/log(N*ndim) to allow for an appropriate number of centroids\n"
   ]
  },
  {
   "cell_type": "code",
   "execution_count": 62,
   "metadata": {
    "scrolled": false
   },
   "outputs": [
    {
     "data": {
      "text/plain": [
       "[Row(avg(0)=1.6187640075821632, avg(1)=-1.5236118967107297),\n",
       " Row(avg(0)=-1.373764368253357, avg(1)=1.3851888336457037),\n",
       " Row(avg(0)=-1.6451007826274182, avg(1)=-1.6982130994047961),\n",
       " Row(avg(0)=1.6061583898710896, avg(1)=1.711068155350454)]"
      ]
     },
     "execution_count": 62,
     "metadata": {},
     "output_type": "execute_result"
    }
   ],
   "source": [
    "c"
   ]
  },
  {
   "cell_type": "code",
   "execution_count": 63,
   "metadata": {},
   "outputs": [
    {
     "name": "stdout",
     "output_type": "stream",
     "text": [
      "['labels', 'centr', 'cost', 'p', 'w']\n"
     ]
    },
    {
     "name": "stderr",
     "output_type": "stream",
     "text": [
      "                                                                                \r"
     ]
    }
   ],
   "source": [
    "data_k, c_k = kmeans(testdata, c, local_centr=True)"
   ]
  },
  {
   "cell_type": "code",
   "execution_count": 65,
   "metadata": {},
   "outputs": [],
   "source": [
    "data_k = data_k.collect()\n",
    "c_k=c_k.collect()"
   ]
  },
  {
   "cell_type": "code",
   "execution_count": 73,
   "metadata": {},
   "outputs": [
    {
     "data": {
      "text/plain": [
       "<matplotlib.collections.PathCollection at 0x7fa20b77e130>"
      ]
     },
     "execution_count": 73,
     "metadata": {},
     "output_type": "execute_result"
    },
    {
     "data": {
      "image/png": "[encoded data removed]",
      "text/plain": [
       "<Figure size 640x480 with 1 Axes>"
      ]
     },
     "metadata": {},
     "output_type": "display_data"
    }
   ],
   "source": [
    "colors=[\"black\", \"green\", \"red\", \"blue\"]\n",
    "plt.scatter([d[0] for d in data_k], [d[1] for d in data_k], color=[colors[d[\"centr\"]] for d in data_k], s=2)\n",
    "plt.scatter([d[0] for d in c_k], [d[1] for d in c_k], color=\"orange\", s=20)"
   ]
  }
 ],
 "metadata": {
  "kernelspec": {
   "display_name": "Python 3 (ipykernel)",
   "language": "python",
   "name": "python3"
  },
  "language_info": {
   "codemirror_mode": {
    "name": "ipython",
    "version": 3
   },
   "file_extension": ".py",
   "mimetype": "text/x-python",
   "name": "python",
   "nbconvert_exporter": "python",
   "pygments_lexer": "ipython3",
   "version": "3.9.12"
  }
 },
 "nbformat": 4,
 "nbformat_minor": 2
}
