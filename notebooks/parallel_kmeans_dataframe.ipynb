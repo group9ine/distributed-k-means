{
 "cells": [
  {
   "cell_type": "code",
   "execution_count": 1,
   "metadata": {},
   "outputs": [
    {
     "name": "stdout",
     "output_type": "stream",
     "text": [
      "Collecting scikit-learn\n",
      "  Downloading scikit_learn-1.3.0-cp39-cp39-manylinux_2_17_x86_64.manylinux2014_x86_64.whl (10.9 MB)\n",
      "\u001b[K     |████████████████████████████████| 10.9 MB 724 kB/s eta 0:00:01\n",
      "\u001b[?25hRequirement already satisfied: numpy>=1.17.3 in /opt/conda/lib/python3.9/site-packages (from scikit-learn) (1.23.5)\n",
      "Collecting scipy>=1.5.0\n",
      "  Downloading scipy-1.11.1-cp39-cp39-manylinux_2_17_x86_64.manylinux2014_x86_64.whl (36.5 MB)\n",
      "\u001b[K     |████████████████████████████████| 36.5 MB 2.9 MB/s eta 0:00:01\n",
      "\u001b[?25hCollecting joblib>=1.1.1\n",
      "  Downloading joblib-1.3.1-py3-none-any.whl (301 kB)\n",
      "\u001b[K     |████████████████████████████████| 301 kB 6.0 MB/s eta 0:00:01\n",
      "\u001b[?25hCollecting threadpoolctl>=2.0.0\n",
      "  Downloading threadpoolctl-3.1.0-py3-none-any.whl (14 kB)\n",
      "Installing collected packages: threadpoolctl, scipy, joblib, scikit-learn\n",
      "Successfully installed joblib-1.3.1 scikit-learn-1.3.0 scipy-1.11.1 threadpoolctl-3.1.0\n",
      "\u001b[33mWARNING: Running pip as the 'root' user can result in broken permissions and conflicting behaviour with the system package manager. It is recommended to use a virtual environment instead: https://pip.pypa.io/warnings/venv\u001b[0m\n",
      "Requirement already satisfied: scipy in /opt/conda/lib/python3.9/site-packages (1.11.1)\n",
      "Requirement already satisfied: numpy<1.28.0,>=1.21.6 in /opt/conda/lib/python3.9/site-packages (from scipy) (1.23.5)\n",
      "\u001b[33mWARNING: Running pip as the 'root' user can result in broken permissions and conflicting behaviour with the system package manager. It is recommended to use a virtual environment instead: https://pip.pypa.io/warnings/venv\u001b[0m\n"
     ]
    }
   ],
   "source": [
    "!pip install scikit-learn\n",
    "!pip install scipy"
   ]
  },
  {
   "cell_type": "code",
   "execution_count": 2,
   "metadata": {},
   "outputs": [],
   "source": [
    "from sklearn.datasets import fetch_kddcup99"
   ]
  },
  {
   "cell_type": "code",
   "execution_count": 3,
   "metadata": {},
   "outputs": [],
   "source": [
    "from pyspark.sql import SparkSession, Window\n",
    "from pyspark.sql.functions import col, udf, array, min as smin, lit, count, isnan, when, sum as ssum\n",
    "from pyspark.sql.types import IntegerType, FloatType\n",
    "from pyspark.ml.feature import MinMaxScaler, VectorAssembler\n",
    "\n",
    "import numpy as np\n",
    "import matplotlib.pyplot as plt\n",
    "import pandas as pd"
   ]
  },
  {
   "cell_type": "markdown",
   "metadata": {},
   "source": [
    "# Creating a Spark session"
   ]
  },
  {
   "cell_type": "code",
   "execution_count": 4,
   "metadata": {},
   "outputs": [
    {
     "name": "stderr",
     "output_type": "stream",
     "text": [
      "Setting default log level to \"WARN\".\n",
      "To adjust logging level use sc.setLogLevel(newLevel). For SparkR, use setLogLevel(newLevel).\n"
     ]
    },
    {
     "name": "stdout",
     "output_type": "stream",
     "text": [
      "23/07/10 17:01:04 WARN NativeCodeLoader: Unable to load native-hadoop library for your platform... using builtin-java classes where applicable\n"
     ]
    }
   ],
   "source": [
    "spark = SparkSession.builder \\\n",
    "    .master(\"spark://spark-master:7077\") \\\n",
    "    .appName(\"k-meaner\") \\\n",
    "    .config(\"spark.executor.memory\", \"1024m\") \\\n",
    "    .config(\"spark.sql.execution.arrow.pyspark.enabled\", \"true\") \\\n",
    "    .config(\"spark.sql.execution.arrow.pyspark.fallback.enabled\", \"false\") \\\n",
    "    .getOrCreate()\n",
    "\n",
    "sc = spark.sparkContext\n",
    "sc.setLogLevel(\"ERROR\")\n",
    "\n",
    "#clear old data if rerunning\n",
    "spark.catalog.clearCache() \n",
    "for (id, rdd) in sc._jsc.getPersistentRDDs().items():\n",
    "    rdd.unpersist()"
   ]
  },
  {
   "cell_type": "markdown",
   "metadata": {},
   "source": [
    "# Loading the `kddcup99` dataset"
   ]
  },
  {
   "cell_type": "code",
   "execution_count": 5,
   "metadata": {},
   "outputs": [
    {
     "name": "stderr",
     "output_type": "stream",
     "text": [
      "/usr/bin/spark-3.3.2-bin-hadoop3/python/pyspark/sql/pandas/conversion.py:604: FutureWarning: iteritems is deprecated and will be removed in a future version. Use .items instead.\n",
      "  [(c, t) for (_, c), t in zip(pdf_slice.iteritems(), arrow_types)]\n"
     ]
    }
   ],
   "source": [
    "kdd = spark.createDataFrame(fetch_kddcup99(as_frame=True)[\"frame\"])"
   ]
  },
  {
   "cell_type": "markdown",
   "metadata": {},
   "source": [
    "# Pre-processing\n",
    "We remove the first three “categorical” columns, and keep only the numerical ones. Then we rescale those to a [0, 1] range. Also, we remove two columns that happen to be all zeros. After all, this shouldn’t affect the clustering afterwards."
   ]
  },
  {
   "cell_type": "code",
   "execution_count": 6,
   "metadata": {},
   "outputs": [
    {
     "name": "stdout",
     "output_type": "stream",
     "text": [
      "root\n",
      " |-- duration: long (nullable = true)\n",
      " |-- protocol_type: binary (nullable = true)\n",
      " |-- service: binary (nullable = true)\n",
      " |-- flag: binary (nullable = true)\n",
      " |-- src_bytes: long (nullable = true)\n",
      " |-- dst_bytes: long (nullable = true)\n",
      " |-- land: long (nullable = true)\n",
      " |-- wrong_fragment: long (nullable = true)\n",
      " |-- urgent: long (nullable = true)\n",
      " |-- hot: long (nullable = true)\n",
      " |-- num_failed_logins: long (nullable = true)\n",
      " |-- logged_in: long (nullable = true)\n",
      " |-- num_compromised: long (nullable = true)\n",
      " |-- root_shell: long (nullable = true)\n",
      " |-- su_attempted: long (nullable = true)\n",
      " |-- num_root: long (nullable = true)\n",
      " |-- num_file_creations: long (nullable = true)\n",
      " |-- num_shells: long (nullable = true)\n",
      " |-- num_access_files: long (nullable = true)\n",
      " |-- num_outbound_cmds: long (nullable = true)\n",
      " |-- is_host_login: long (nullable = true)\n",
      " |-- is_guest_login: long (nullable = true)\n",
      " |-- count: long (nullable = true)\n",
      " |-- srv_count: long (nullable = true)\n",
      " |-- serror_rate: double (nullable = true)\n",
      " |-- srv_serror_rate: double (nullable = true)\n",
      " |-- rerror_rate: double (nullable = true)\n",
      " |-- srv_rerror_rate: double (nullable = true)\n",
      " |-- same_srv_rate: double (nullable = true)\n",
      " |-- diff_srv_rate: double (nullable = true)\n",
      " |-- srv_diff_host_rate: double (nullable = true)\n",
      " |-- dst_host_count: long (nullable = true)\n",
      " |-- dst_host_srv_count: long (nullable = true)\n",
      " |-- dst_host_same_srv_rate: double (nullable = true)\n",
      " |-- dst_host_diff_srv_rate: double (nullable = true)\n",
      " |-- dst_host_same_src_port_rate: double (nullable = true)\n",
      " |-- dst_host_srv_diff_host_rate: double (nullable = true)\n",
      " |-- dst_host_serror_rate: double (nullable = true)\n",
      " |-- dst_host_srv_serror_rate: double (nullable = true)\n",
      " |-- dst_host_rerror_rate: double (nullable = true)\n",
      " |-- dst_host_srv_rerror_rate: double (nullable = true)\n",
      " |-- labels: binary (nullable = true)\n",
      "\n"
     ]
    }
   ],
   "source": [
    "kdd.printSchema()"
   ]
  },
  {
   "cell_type": "code",
   "execution_count": 7,
   "metadata": {},
   "outputs": [
    {
     "name": "stdout",
     "output_type": "stream",
     "text": [
      "root\n",
      " |-- duration: long (nullable = true)\n",
      " |-- src_bytes: long (nullable = true)\n",
      " |-- dst_bytes: long (nullable = true)\n",
      " |-- land: long (nullable = true)\n",
      " |-- wrong_fragment: long (nullable = true)\n",
      " |-- urgent: long (nullable = true)\n",
      " |-- hot: long (nullable = true)\n",
      " |-- num_failed_logins: long (nullable = true)\n",
      " |-- logged_in: long (nullable = true)\n",
      " |-- num_compromised: long (nullable = true)\n",
      " |-- root_shell: long (nullable = true)\n",
      " |-- su_attempted: long (nullable = true)\n",
      " |-- num_root: long (nullable = true)\n",
      " |-- num_file_creations: long (nullable = true)\n",
      " |-- num_shells: long (nullable = true)\n",
      " |-- num_access_files: long (nullable = true)\n",
      " |-- num_outbound_cmds: long (nullable = true)\n",
      " |-- is_host_login: long (nullable = true)\n",
      " |-- is_guest_login: long (nullable = true)\n",
      " |-- count: long (nullable = true)\n",
      " |-- srv_count: long (nullable = true)\n",
      " |-- serror_rate: double (nullable = true)\n",
      " |-- srv_serror_rate: double (nullable = true)\n",
      " |-- rerror_rate: double (nullable = true)\n",
      " |-- srv_rerror_rate: double (nullable = true)\n",
      " |-- same_srv_rate: double (nullable = true)\n",
      " |-- diff_srv_rate: double (nullable = true)\n",
      " |-- srv_diff_host_rate: double (nullable = true)\n",
      " |-- dst_host_count: long (nullable = true)\n",
      " |-- dst_host_srv_count: long (nullable = true)\n",
      " |-- dst_host_same_srv_rate: double (nullable = true)\n",
      " |-- dst_host_diff_srv_rate: double (nullable = true)\n",
      " |-- dst_host_same_src_port_rate: double (nullable = true)\n",
      " |-- dst_host_srv_diff_host_rate: double (nullable = true)\n",
      " |-- dst_host_serror_rate: double (nullable = true)\n",
      " |-- dst_host_srv_serror_rate: double (nullable = true)\n",
      " |-- dst_host_rerror_rate: double (nullable = true)\n",
      " |-- dst_host_srv_rerror_rate: double (nullable = true)\n",
      " |-- labels: binary (nullable = true)\n",
      "\n"
     ]
    }
   ],
   "source": [
    "kdd = kdd.drop(\"protocol_type\")\n",
    "kdd = kdd.drop(\"service\") \n",
    "kdd = kdd.drop(\"flag\")\n",
    "kdd.printSchema()"
   ]
  },
  {
   "cell_type": "code",
   "execution_count": 8,
   "metadata": {},
   "outputs": [
    {
     "name": "stderr",
     "output_type": "stream",
     "text": [
      "                                                                                \r"
     ]
    },
    {
     "name": "stdout",
     "output_type": "stream",
     "text": [
      "unsupported operand type(s) for -: 'bytearray' and 'bytearray'\n"
     ]
    }
   ],
   "source": [
    "kdd.createOrReplaceTempView(\"kdd_table\")\n",
    "\n",
    "for c in kdd.columns:\n",
    "    try:\n",
    "        limits = spark.sql(\"SELECT min(\" + c + \"), max(\" + c + \") FROM kdd_table\").collect()\n",
    "        #mx = kdd.groupby().max(c).first().asDict()['max('+c+')']\n",
    "        #mn = kdd.groupby().min(c).first().asDict()['min('+c+')']\n",
    "        mn, mx = limits[0][0], limits[0][1]\n",
    "        \n",
    "        if mn==mx:\n",
    "            continue\n",
    "        \n",
    "        \n",
    "        kdd = kdd.withColumn(c, (col(c)-mn)/(mx-mn) )\n",
    "        \n",
    "        #print(limits[0][0], limits[0][1])\n",
    "    except Exception as e:\n",
    "        print(e)\n",
    "\n",
    "#kdd.take(1)\n",
    "#help(kdd)\n",
    "\n",
    "#for c in kdd.columns:\n",
    "#    kdd.schema[c].nullable=False\n",
    "\n",
    "#kdd = spark.createDataFrame(kdd.rdd, kdd.schema)\n",
    "kdd = kdd.persist()\n",
    "#kdd.select([count(when(isnan(c) | col(c).isNull(), c)).alias(c) for c in kdd.columns if c not in [\"labels\"]]).show()"
   ]
  },
  {
   "cell_type": "code",
   "execution_count": 9,
   "metadata": {},
   "outputs": [
    {
     "name": "stdout",
     "output_type": "stream",
     "text": [
      "root\n",
      " |-- duration: double (nullable = true)\n",
      " |-- src_bytes: double (nullable = true)\n",
      " |-- dst_bytes: double (nullable = true)\n",
      " |-- land: double (nullable = true)\n",
      " |-- wrong_fragment: double (nullable = true)\n",
      " |-- urgent: double (nullable = true)\n",
      " |-- hot: double (nullable = true)\n",
      " |-- num_failed_logins: double (nullable = true)\n",
      " |-- logged_in: double (nullable = true)\n",
      " |-- num_compromised: double (nullable = true)\n",
      " |-- root_shell: double (nullable = true)\n",
      " |-- su_attempted: double (nullable = true)\n",
      " |-- num_root: double (nullable = true)\n",
      " |-- num_file_creations: double (nullable = true)\n",
      " |-- num_shells: double (nullable = true)\n",
      " |-- num_access_files: double (nullable = true)\n",
      " |-- num_outbound_cmds: long (nullable = true)\n",
      " |-- is_host_login: long (nullable = true)\n",
      " |-- is_guest_login: double (nullable = true)\n",
      " |-- count: double (nullable = true)\n",
      " |-- srv_count: double (nullable = true)\n",
      " |-- serror_rate: double (nullable = true)\n",
      " |-- srv_serror_rate: double (nullable = true)\n",
      " |-- rerror_rate: double (nullable = true)\n",
      " |-- srv_rerror_rate: double (nullable = true)\n",
      " |-- same_srv_rate: double (nullable = true)\n",
      " |-- diff_srv_rate: double (nullable = true)\n",
      " |-- srv_diff_host_rate: double (nullable = true)\n",
      " |-- dst_host_count: double (nullable = true)\n",
      " |-- dst_host_srv_count: double (nullable = true)\n",
      " |-- dst_host_same_srv_rate: double (nullable = true)\n",
      " |-- dst_host_diff_srv_rate: double (nullable = true)\n",
      " |-- dst_host_same_src_port_rate: double (nullable = true)\n",
      " |-- dst_host_srv_diff_host_rate: double (nullable = true)\n",
      " |-- dst_host_serror_rate: double (nullable = true)\n",
      " |-- dst_host_srv_serror_rate: double (nullable = true)\n",
      " |-- dst_host_rerror_rate: double (nullable = true)\n",
      " |-- dst_host_srv_rerror_rate: double (nullable = true)\n",
      " |-- labels: binary (nullable = true)\n",
      "\n"
     ]
    },
    {
     "name": "stderr",
     "output_type": "stream",
     "text": [
      "                                                                                \r"
     ]
    },
    {
     "data": {
      "text/plain": [
       "[0.0,\n",
       " 2.6104176374007026e-07,\n",
       " 0.0010571300219495107,\n",
       " 0.0,\n",
       " 0.0,\n",
       " 0.0,\n",
       " 0.0,\n",
       " 0.0,\n",
       " 1.0,\n",
       " 0.0,\n",
       " 0.0,\n",
       " 0.0,\n",
       " 0.0,\n",
       " 0.0,\n",
       " 0.0,\n",
       " 0.0,\n",
       " 0.0,\n",
       " 0.0,\n",
       " 0.0,\n",
       " 0.015655577299412915,\n",
       " 0.015655577299412915,\n",
       " 0.0,\n",
       " 0.0,\n",
       " 0.0,\n",
       " 0.0,\n",
       " 1.0,\n",
       " 0.0,\n",
       " 0.0,\n",
       " 0.03529411764705882,\n",
       " 0.03529411764705882,\n",
       " 1.0,\n",
       " 0.0,\n",
       " 0.11,\n",
       " 0.0,\n",
       " 0.0,\n",
       " 0.0,\n",
       " 0.0,\n",
       " 0.0]"
      ]
     },
     "execution_count": 9,
     "metadata": {},
     "output_type": "execute_result"
    }
   ],
   "source": [
    "kdd.printSchema()\n",
    "\n",
    "kdd.select(array([c for c in kdd.columns if c!=\"labels\"])).take(1)[0][0]"
   ]
  },
  {
   "cell_type": "markdown",
   "metadata": {},
   "source": [
    "assembler = VectorAssembler(inputCols=[c for c in kdd.columns if c not in [\"protocol_type\", \"service\", \"flag\", \"labels\"]], outputCol=\"features\")\n",
    "assembled_df = assembler.transform(kdd)\n",
    "\n",
    "scaler = MinMaxScaler(inputCol=\"features\", outputCol=\"scaled_features\")\n",
    "scaler_model = scaler.fit(assembled_df)\n",
    "normalized_data = scaler_model.transform(assembled_df)"
   ]
  },
  {
   "cell_type": "markdown",
   "metadata": {},
   "source": [
    "### Plotting the distribution of attack types…"
   ]
  },
  {
   "cell_type": "code",
   "execution_count": 10,
   "metadata": {},
   "outputs": [
    {
     "name": "stderr",
     "output_type": "stream",
     "text": [
      "                                                                                \r"
     ]
    }
   ],
   "source": [
    "\"\"\"targets = kdd[1]\n",
    "\n",
    "attacks, counts = np.unique(targets, return_counts=True)\n",
    "ypos = np.arange(len(attacks))\n",
    "\n",
    "attack_sort = np.argsort(counts)\n",
    "attacks = attacks[attack_sort]\n",
    "counts = counts[attack_sort]\n",
    "\"\"\"\n",
    "res = spark.sql(\"SELECT labels, count(1) FROM kdd_table GROUP BY labels\").collect()"
   ]
  },
  {
   "cell_type": "code",
   "execution_count": 11,
   "metadata": {},
   "outputs": [
    {
     "name": "stderr",
     "output_type": "stream",
     "text": [
      "/tmp/ipykernel_62/2946778956.py:1: VisibleDeprecationWarning: Creating an ndarray from ragged nested sequences (which is a list-or-tuple of lists-or-tuples-or ndarrays with different lengths or shapes) is deprecated. If you meant to do this, you must specify 'dtype=object' when creating the ndarray.\n",
      "  attacks = np.array([r[0] for r in res])\n"
     ]
    }
   ],
   "source": [
    "attacks = np.array([r[0] for r in res])\n",
    "counts = np.array([r[1] for r in res])\n",
    "attack_sort = np.argsort(counts)\n",
    "attacks = attacks[attack_sort]\n",
    "counts = counts[attack_sort]\n",
    "\n",
    "ypos = np.arange(len(attacks))"
   ]
  },
  {
   "cell_type": "code",
   "execution_count": 12,
   "metadata": {
    "scrolled": false
   },
   "outputs": [
    {
     "data": {
      "image/png": "[encoded data removed]",
      "text/plain": [
       "<Figure size 1200x600 with 1 Axes>"
      ]
     },
     "metadata": {},
     "output_type": "display_data"
    }
   ],
   "source": [
    "plt.figure(figsize=(12, 6))\n",
    "plt.barh(ypos, np.log10(counts), facecolor=\"gold\")\n",
    "plt.yticks(ypos, labels=[a.decode(\"utf-8\")[0:-1] for a in attacks])\n",
    "plt.xlabel(r\"$\\log_{10}(\\mathrm{count})$\")\n",
    "plt.ylabel(\"Attack type\")\n",
    "plt.show()"
   ]
  },
  {
   "cell_type": "markdown",
   "metadata": {},
   "source": [
    "## Start on k-means basic algo"
   ]
  },
  {
   "cell_type": "code",
   "execution_count": 13,
   "metadata": {},
   "outputs": [],
   "source": [
    "index_udf = udf(lambda row:attacks.tolist().index(row) )\n",
    "kdd = kdd.withColumn(\"labels\", index_udf(col(\"labels\")).cast(\"int\"))"
   ]
  },
  {
   "cell_type": "code",
   "execution_count": 5,
   "metadata": {},
   "outputs": [],
   "source": [
    "ignored_cols = [\"labels\", \"centr\", \"cost\", \"p\"]"
   ]
  },
  {
   "cell_type": "code",
   "execution_count": 14,
   "metadata": {},
   "outputs": [],
   "source": [
    "kdd = kdd.withColumn(\"centr\", lit(-1))\n",
    "kdd = kdd.withColumn(\"cost\", lit(0.))\n",
    "kdd = kdd.withColumn(\"p\", lit(0.))\n",
    "ncols = len(kdd.columns) - len(ignored_cols)"
   ]
  },
  {
   "cell_type": "code",
   "execution_count": 15,
   "metadata": {},
   "outputs": [
    {
     "data": {
      "text/plain": [
       "DataFrame[duration: double, src_bytes: double, dst_bytes: double, land: double, wrong_fragment: double, urgent: double, hot: double, num_failed_logins: double, logged_in: double, num_compromised: double, root_shell: double, su_attempted: double, num_root: double, num_file_creations: double, num_shells: double, num_access_files: double, num_outbound_cmds: bigint, is_host_login: bigint, is_guest_login: double, count: double, srv_count: double, serror_rate: double, srv_serror_rate: double, rerror_rate: double, srv_rerror_rate: double, same_srv_rate: double, diff_srv_rate: double, srv_diff_host_rate: double, dst_host_count: double, dst_host_srv_count: double, dst_host_same_srv_rate: double, dst_host_diff_srv_rate: double, dst_host_same_src_port_rate: double, dst_host_srv_diff_host_rate: double, dst_host_serror_rate: double, dst_host_srv_serror_rate: double, dst_host_rerror_rate: double, dst_host_srv_rerror_rate: double, labels: int, centr: int, cost: double, p: double]"
      ]
     },
     "execution_count": 15,
     "metadata": {},
     "output_type": "execute_result"
    }
   ],
   "source": [
    "kdd"
   ]
  },
  {
   "cell_type": "code",
   "execution_count": 6,
   "metadata": {},
   "outputs": [],
   "source": [
    "def dist(x,y):\n",
    "    try:\n",
    "        #return (((np.array(x)-y)**2).sum())**0.5\n",
    "        return np.linalg.norm(np.array(x)-np.array(y))\n",
    "    except Exception as e:\n",
    "        print(e)\n",
    "        return ncols\n",
    "\n",
    "def argcomp(comp,func, arr, *params):\n",
    "    res = [func(arr[i], *params) for i in range(len(arr))]\n",
    "    #print(res)\n",
    "    return res.index(comp(res))\n",
    "\n",
    "#udist=udf(dist, FloatType())\n",
    "\n",
    "#distance_udf = udf(lambda x,y:  np.linalg.norm(x-y), FloatType())"
   ]
  },
  {
   "cell_type": "code",
   "execution_count": 78,
   "metadata": {},
   "outputs": [],
   "source": [
    "###################################### actual k-means \n",
    "def kmeans(data, centers, max_iter=10, weighted=False, local_centr=False):\n",
    "    count = 0\n",
    "    if weighted and \"w\" not in ignored_cols:\n",
    "        ignored_cols.append(\"w\")\n",
    "    while True:\n",
    "        if local_centr:\n",
    "            cc = centers\n",
    "            local_centr = False\n",
    "        else:\n",
    "            cc = centers.collect()\n",
    "        #print(cc)\n",
    "        \n",
    "        argmindist_udf = udf(lambda row: argcomp(min,dist,cc,row), IntegerType())\n",
    "        \n",
    "        data = data.withColumn(\"centr\", argmindist_udf(array([c for c in data.columns if c not in ignored_cols])))\n",
    "        \n",
    "        if not weighted:\n",
    "            newcenters = data.groupBy(\"centr\").mean().select(*[col(\"avg(\"+c+\")\") for c in data.columns if c not in ignored_cols])\n",
    "        else:\n",
    "            #newcenters = data.groupBy(\"centr\").agg(ssum(array([c for c in data.columns if c not in ignored_cols]) * col(\"w\"))/ssum(col(\"w\")))\n",
    "            newcenters = data.rdd.map(\n",
    "                lambda x: (x[\"centr\"],(x[[c for c in data.columns if c not in ignored_cols]],x[\"w\"]))\n",
    "            ).reduceByKey(\n",
    "                lambda x,y: ((x[0]*x[1]+y[0]*y[1])/x[1]+y[1], x[1]+y[1])\n",
    "            ).map(lambda x: x[1][0]).collect()\n",
    "        \n",
    "        centers = newcenters\n",
    "        \n",
    "        count+=1\n",
    "        if count>max_iter:#(newcenters-centers).mean() < 0.01:\n",
    "            break\n",
    "            \n",
    "    \n",
    "    return data, centers"
   ]
  },
  {
   "cell_type": "code",
   "execution_count": null,
   "metadata": {},
   "outputs": [],
   "source": [
    "centers = pd.DataFrame(np.random.random(size=(len(attacks), ncols)))\n",
    "centers = spark.createDataFrame(centers)"
   ]
  },
  {
   "cell_type": "code",
   "execution_count": null,
   "metadata": {},
   "outputs": [],
   "source": [
    "finaldata, newcenters = kmeans(kdd, centers)"
   ]
  },
  {
   "cell_type": "code",
   "execution_count": null,
   "metadata": {},
   "outputs": [],
   "source": [
    "newcenters.collect()"
   ]
  },
  {
   "cell_type": "code",
   "execution_count": null,
   "metadata": {},
   "outputs": [],
   "source": [
    "finaldata.take(1)"
   ]
  },
  {
   "cell_type": "markdown",
   "metadata": {},
   "source": [
    "##### check results\n",
    "#print(d, len(d))\n",
    "mat = [[0 for i in range(4)] for j in range(4)]\n",
    "for i in range(4):\n",
    "    for j in range(4):\n",
    "        for k in range(len(d)):\n",
    "            mat[i][j] += ((d[k][\"labels\"] == i) and (d[k][\"centr\"] == j))\n",
    "mat"
   ]
  },
  {
   "cell_type": "markdown",
   "metadata": {},
   "source": [
    "## K-means||"
   ]
  },
  {
   "cell_type": "code",
   "execution_count": 7,
   "metadata": {},
   "outputs": [],
   "source": [
    "def kmeans_parallel(data, k, l):\n",
    "    centr = data.select(array([c for c in data.columns if c not in ignored_cols])).rdd.takeSample(True,2)\n",
    "    #define get_cost using udf on min(dist(row,centr[i]))\n",
    "    get_cost = udf(lambda row: str(min([dist(row, cen)**2 for cen in centr])))\n",
    "    \n",
    "    data = data.withColumn(\"cost\", get_cost(array([c for c in data.columns if c not in ignored_cols])).cast(\"double\"))\n",
    "    \n",
    "    cost = data.select(\"cost\").groupBy().sum().collect()[0][0]\n",
    "    \n",
    "    for i in range(int(np.log(cost))):\n",
    "        #re-define get_cost using udf on min(dist(row,centr[i]))\n",
    "        get_cost = udf(lambda row: str(min([dist(row, cen)**2 for cen in centr])))\n",
    "        data = data.withColumn(\"cost\", get_cost(array([c for c in data.columns if c not in ignored_cols])).cast(\"double\"))\n",
    "        #data = data.orderBy(\"cost\")\n",
    "        cost = data.select(\"cost\").groupBy().sum().collect()[0][0]\n",
    "        #print(cost, type(cost), cost.__repr__(), cost.__str__())\n",
    "        #data.withColumn(\"p\", data.select(\"cost\").cumsum()/cost)\n",
    "        \n",
    "        #data = data.withColumn('p', ssum('cost').over(Window.orderBy('cost')))\n",
    "        data = data.withColumn(\"p\", udf(lambda row: np.random.random())(col(\"cost\")))\n",
    "        #for j in range(l):\n",
    "        centr.extend( data.where( data[\"cost\"] * l > cost * data[\"p\"]).select(array([c for c in data.columns if c not in ignored_cols])).collect() )\n",
    "    \n",
    "    ## search for possible identical centroids\n",
    "    \n",
    "    if len(centr) > k:\n",
    "        #downsample\n",
    "        pass\n",
    "    return centr"
   ]
  },
  {
   "cell_type": "code",
   "execution_count": 8,
   "metadata": {},
   "outputs": [
    {
     "data": {
      "text/plain": [
       "array([[ 1.60046502, -1.40430945],\n",
       "       [-1.37310819, -1.06626768],\n",
       "       [-1.47310752, -1.01640827],\n",
       "       [ 1.87728282,  1.45932551],\n",
       "       [-1.65172845, -1.62154446],\n",
       "       [-1.34575324,  1.626353  ],\n",
       "       [ 1.27416511,  1.45451327],\n",
       "       [-1.74069135,  1.0289038 ],\n",
       "       [-1.29686198,  1.49456509],\n",
       "       [ 1.34618057,  1.65029453],\n",
       "       [-1.18418718,  1.80525021],\n",
       "       [-1.38486281, -1.81038634],\n",
       "       [ 1.79353013,  1.74394028],\n",
       "       [-1.28049247, -1.12122695],\n",
       "       [-1.02936383, -1.08714657],\n",
       "       [ 1.36890536,  1.32349781],\n",
       "       [-1.71419356, -1.20684172],\n",
       "       [ 1.54772733,  1.38034274],\n",
       "       [-1.4628417 , -1.42211775],\n",
       "       [ 1.95664859,  1.24508913],\n",
       "       [-1.02257183, -1.48777853],\n",
       "       [ 1.60157506, -1.48132356],\n",
       "       [ 1.29914747,  1.86857887],\n",
       "       [ 1.35656014, -1.83716916],\n",
       "       [-1.90174456, -1.96174583],\n",
       "       [-1.18310547, -1.77916806],\n",
       "       [ 1.65800168,  1.27439624],\n",
       "       [-1.5702585 ,  1.14484782],\n",
       "       [-1.46396391, -1.09464016],\n",
       "       [-1.4050764 ,  1.75286372],\n",
       "       [ 1.60120405,  1.75246299],\n",
       "       [ 1.3707584 ,  1.75829762],\n",
       "       [-1.26820037, -1.65462852],\n",
       "       [-1.17830207,  1.23862877],\n",
       "       [ 1.89612011,  1.17137608],\n",
       "       [-1.01757635, -1.13020218],\n",
       "       [ 1.63713972, -1.44469641],\n",
       "       [ 1.20014817, -1.84243812],\n",
       "       [ 1.75394577, -1.85776606],\n",
       "       [-1.73607826, -1.59517479],\n",
       "       [ 1.79008355,  1.27846859],\n",
       "       [ 1.26406359, -1.12095404],\n",
       "       [-1.49564679,  1.10024342],\n",
       "       [-1.2404968 , -1.50709679],\n",
       "       [-1.01233359, -1.96757768],\n",
       "       [-1.09975843,  1.08282872],\n",
       "       [ 1.02589016,  1.81353509],\n",
       "       [-1.93130937,  1.65520798],\n",
       "       [-1.18751758,  1.09630267],\n",
       "       [ 1.46463965,  1.85837619],\n",
       "       [ 1.99950167, -1.3999147 ],\n",
       "       [-1.5535108 ,  1.7072982 ],\n",
       "       [ 1.91503797, -1.94353863],\n",
       "       [-1.22668274, -1.42481583],\n",
       "       [ 1.12265852, -1.05451548],\n",
       "       [-1.47763949,  1.02534433],\n",
       "       [ 1.70464484, -1.32959377],\n",
       "       [-1.34366977,  1.24751104],\n",
       "       [-1.73735228, -1.71489561],\n",
       "       [ 1.65445703,  1.25142332],\n",
       "       [ 1.4687257 , -1.3988812 ],\n",
       "       [ 1.96918401, -1.02932111],\n",
       "       [ 1.40580367,  1.15638383],\n",
       "       [-1.26153369, -1.52759478],\n",
       "       [-1.76425569, -1.21634588],\n",
       "       [-1.27647765, -1.49662101],\n",
       "       [ 1.32679453, -1.95391832],\n",
       "       [ 1.67112921,  1.78575472],\n",
       "       [ 1.34541482,  1.44845352],\n",
       "       [-1.79029013, -1.74388368],\n",
       "       [-1.26986567, -1.16345388],\n",
       "       [ 1.83354272, -1.99873629],\n",
       "       [ 1.74869235,  1.44979085],\n",
       "       [ 1.00491117, -1.58525748],\n",
       "       [ 1.44186836,  1.51160398],\n",
       "       [-1.88485893, -1.02659057],\n",
       "       [-1.54787699,  1.97726371],\n",
       "       [ 1.55646692, -1.13354647],\n",
       "       [ 1.54985487, -1.35663105],\n",
       "       [-1.54618721, -1.84374454],\n",
       "       [-1.23996619,  1.16222571],\n",
       "       [ 1.97102784,  1.47686776],\n",
       "       [ 1.95099747, -1.9840714 ],\n",
       "       [ 1.55961734,  1.61627003],\n",
       "       [-1.26301147, -1.55086721],\n",
       "       [ 1.62479472, -1.76648817],\n",
       "       [-1.21768743,  1.32026594],\n",
       "       [-1.91537782, -1.09580806],\n",
       "       [ 1.96167006,  1.90735442],\n",
       "       [-1.85076758, -1.06496571],\n",
       "       [ 1.26741081,  1.66958523],\n",
       "       [ 1.65871778, -1.75352057],\n",
       "       [-1.17851712,  1.58351704],\n",
       "       [ 1.47076359, -1.49052734],\n",
       "       [ 1.67533591, -1.23455532],\n",
       "       [-1.84465455,  1.74677857],\n",
       "       [ 1.8298229 ,  1.4800774 ],\n",
       "       [-1.10085763, -1.2888568 ],\n",
       "       [ 1.92528995,  1.81448628],\n",
       "       [ 1.09449208, -1.08082086],\n",
       "       [ 1.39838028, -1.3090954 ],\n",
       "       [-1.40426822,  1.41015288],\n",
       "       [ 1.23168421, -1.23190191],\n",
       "       [-1.15675092, -1.2234902 ],\n",
       "       [-1.93372526, -1.29712979],\n",
       "       [ 1.74042534,  1.51244616],\n",
       "       [-1.02519079, -1.1186985 ],\n",
       "       [ 1.42363929, -1.76461536],\n",
       "       [ 1.77495115, -1.52538016],\n",
       "       [-1.41281472,  1.79013873],\n",
       "       [ 1.81668513, -1.07620206],\n",
       "       [-1.61361502, -1.53684191],\n",
       "       [ 1.17141424, -1.92460624],\n",
       "       [ 1.79169367, -1.70294987],\n",
       "       [-1.87582375, -1.76476046],\n",
       "       [-1.93376801,  1.68437446],\n",
       "       [ 1.93528594, -1.63237315],\n",
       "       [ 1.38110517,  1.12351394],\n",
       "       [ 1.07018877, -1.60713594],\n",
       "       [ 1.21840969,  1.87286735],\n",
       "       [-1.68242932, -1.31426059],\n",
       "       [-1.04553402,  1.04722482],\n",
       "       [ 1.84699734, -1.90531876],\n",
       "       [ 1.51720351,  1.7062262 ],\n",
       "       [ 1.74604436, -1.50427142],\n",
       "       [ 1.0298343 ,  1.46023188],\n",
       "       [-1.48083228,  1.20371064],\n",
       "       [ 1.84149508,  1.55381589],\n",
       "       [-1.57691446,  1.95030047],\n",
       "       [-1.1684295 ,  1.49884572],\n",
       "       [ 1.74731666, -1.5284627 ],\n",
       "       [ 1.79807968,  1.96134751],\n",
       "       [ 1.31586216,  1.75223466],\n",
       "       [ 1.35219266, -1.86082785],\n",
       "       [-1.54705152, -1.01000676],\n",
       "       [-1.36574842, -1.93250712],\n",
       "       [ 1.42085473,  1.01881196],\n",
       "       [-1.22114034,  1.68610878],\n",
       "       [ 1.49231128, -1.71804768],\n",
       "       [-1.11292344, -1.40355369],\n",
       "       [-1.67555223, -1.91181739],\n",
       "       [ 1.961063  ,  1.10100785],\n",
       "       [ 1.36347323,  1.26107882],\n",
       "       [ 1.79674581,  1.39190959],\n",
       "       [ 1.53144011,  1.74958925],\n",
       "       [-1.88063223,  1.57449448],\n",
       "       [ 1.88619986, -1.74110133],\n",
       "       [ 1.22761156, -1.32699313],\n",
       "       [-1.52186067,  1.56516151],\n",
       "       [-1.17532943, -1.94192728],\n",
       "       [ 1.09636759, -1.65976433],\n",
       "       [ 1.1711947 , -1.89284023],\n",
       "       [ 1.86759513,  1.69493789],\n",
       "       [-1.75590441,  1.41101161],\n",
       "       [-1.25152165,  1.53574099],\n",
       "       [ 1.21986349,  1.84196699],\n",
       "       [ 1.98963564, -1.83509663],\n",
       "       [-1.74392703,  1.02819754],\n",
       "       [ 1.25172381,  1.36042368],\n",
       "       [-1.6928244 , -1.66085961],\n",
       "       [ 1.31751621, -1.15726683],\n",
       "       [-1.90977039, -1.16825771],\n",
       "       [ 1.43660738, -1.2573679 ],\n",
       "       [-1.66242598,  1.1960217 ],\n",
       "       [ 1.22096497,  1.11756012],\n",
       "       [-1.13113076,  1.94299317],\n",
       "       [-1.36646444,  1.6162002 ],\n",
       "       [-1.95500829,  1.61698423],\n",
       "       [-1.07904835, -1.09510027],\n",
       "       [-1.19672286, -1.76325138],\n",
       "       [-1.02230143, -1.63279605],\n",
       "       [-1.47909205, -1.52455651],\n",
       "       [ 1.20800366,  1.60647986],\n",
       "       [ 1.3660702 ,  1.31997154],\n",
       "       [-1.32512739,  1.56769704],\n",
       "       [ 1.40816176,  1.3774169 ],\n",
       "       [ 1.52359506,  1.82775914],\n",
       "       [ 1.91814429,  1.38599075],\n",
       "       [-1.44340708, -1.63449395],\n",
       "       [ 1.96681546, -1.8519487 ],\n",
       "       [ 1.97536986,  1.43208775],\n",
       "       [-1.19755618, -1.11378229],\n",
       "       [ 1.07064758, -1.08350182],\n",
       "       [-1.5753189 ,  1.41025515],\n",
       "       [ 1.09498966, -1.54847008],\n",
       "       [ 1.3927459 , -1.60029624],\n",
       "       [-1.57844631,  1.24398855],\n",
       "       [-1.40507222,  1.70749294],\n",
       "       [-1.00084406, -1.47385551],\n",
       "       [ 1.58678435, -1.24613424],\n",
       "       [ 1.3374715 ,  1.05830099],\n",
       "       [-1.37192807,  1.62407659],\n",
       "       [ 1.93727004,  1.23293321],\n",
       "       [ 1.2064085 ,  1.54107564],\n",
       "       [ 1.56611815,  1.52100079],\n",
       "       [-1.67471418, -1.89581916],\n",
       "       [-1.52918466,  1.41768471],\n",
       "       [ 1.67614676,  1.5699042 ],\n",
       "       [-1.97109635,  1.68756778],\n",
       "       [ 1.31327718,  1.71352241],\n",
       "       [ 1.89782726,  1.20176336],\n",
       "       [ 1.36578399, -1.70822127],\n",
       "       [ 1.06644966,  1.43058211],\n",
       "       [-1.55930146,  1.13776021],\n",
       "       [-1.01231472, -1.12948601],\n",
       "       [-1.43418631, -1.64540422],\n",
       "       [ 1.10621719, -1.91571991],\n",
       "       [-1.13260177,  1.73941902],\n",
       "       [-1.6863824 , -1.45796801],\n",
       "       [-1.17869964, -1.75125439],\n",
       "       [ 1.19847685, -1.91658105],\n",
       "       [-1.12997752,  1.62078116],\n",
       "       [-1.99822684, -1.3215164 ],\n",
       "       [ 1.48146082, -1.63346114],\n",
       "       [ 1.17508405,  1.01788333],\n",
       "       [-1.58738697, -1.77868061],\n",
       "       [ 1.81252927, -1.63387317],\n",
       "       [ 1.33450809,  1.30622468],\n",
       "       [-1.98618289, -1.07299482],\n",
       "       [ 1.93472527,  1.71588167],\n",
       "       [-1.2438476 , -1.50617878],\n",
       "       [ 1.07032816,  1.75014619],\n",
       "       [ 1.50590928,  1.8678001 ],\n",
       "       [-1.99441473,  1.18907211],\n",
       "       [-1.98239205,  1.23671829],\n",
       "       [-1.61594069,  1.36097678],\n",
       "       [ 1.37997942,  1.27184371],\n",
       "       [ 1.71035819,  1.30042609],\n",
       "       [-1.49873244,  1.05037836],\n",
       "       [ 1.96070505, -1.11387113],\n",
       "       [-1.30441594,  1.85014225],\n",
       "       [ 1.72017852, -1.37316386],\n",
       "       [ 1.07866543,  1.79505176],\n",
       "       [ 1.47741431, -1.89070447],\n",
       "       [ 1.56496406,  1.91729173],\n",
       "       [-1.65704059, -1.14109174],\n",
       "       [ 1.74167978, -1.17069973],\n",
       "       [ 1.48602455, -1.5389121 ],\n",
       "       [ 1.1569457 , -1.58019481],\n",
       "       [-1.26177356,  1.44494003],\n",
       "       [ 1.44859958,  1.75698266],\n",
       "       [-1.22551027, -1.05004382],\n",
       "       [ 1.06327717,  1.02137681],\n",
       "       [-1.97147787, -1.95454472],\n",
       "       [-1.58696662, -1.97096968],\n",
       "       [ 1.0254867 ,  1.42360481],\n",
       "       [-1.74850969, -1.87617131],\n",
       "       [ 1.12332225, -1.78783663],\n",
       "       [-1.98323709,  1.30543441],\n",
       "       [ 1.34977254, -1.4716103 ],\n",
       "       [ 1.23721726,  1.81762275],\n",
       "       [ 1.43699761,  1.07689434],\n",
       "       [-1.62959928, -1.37872121],\n",
       "       [ 1.33023873, -1.15365477],\n",
       "       [ 1.53774584, -1.16059414],\n",
       "       [ 1.07481354, -1.57380531],\n",
       "       [ 1.91896179, -1.28308566],\n",
       "       [ 1.46244117,  1.85488469],\n",
       "       [-1.59067812, -1.42253574],\n",
       "       [-1.24071205, -1.18911358],\n",
       "       [-1.23223389,  1.5383141 ],\n",
       "       [-1.26937382,  1.37141331],\n",
       "       [-1.77421164,  1.71627486],\n",
       "       [-1.35563785,  1.78153526],\n",
       "       [ 1.26052808,  1.24572724],\n",
       "       [-1.58889238, -1.84082648],\n",
       "       [ 1.27511023, -1.42577993],\n",
       "       [ 1.24635737, -1.54224862],\n",
       "       [ 1.36442421, -1.81281814],\n",
       "       [-1.15371042, -1.02332449],\n",
       "       [ 1.80406617,  1.40728554],\n",
       "       [-1.14861555,  1.85099782],\n",
       "       [ 1.77398401,  1.2162434 ],\n",
       "       [ 1.98866557,  1.91763163],\n",
       "       [-1.53331471,  1.76856007],\n",
       "       [-1.7785801 ,  1.97914051],\n",
       "       [-1.51365484,  1.58708933],\n",
       "       [-1.20339765,  1.17488683],\n",
       "       [ 1.13848307, -1.60818649],\n",
       "       [-1.93520443, -1.77211507],\n",
       "       [-1.89790819,  1.1258364 ],\n",
       "       [ 1.03482228, -1.55959268],\n",
       "       [ 1.16684046, -1.54719897],\n",
       "       [ 1.28404788, -1.15509047],\n",
       "       [ 1.65048921,  1.36114294],\n",
       "       [ 1.44114242, -1.2518361 ],\n",
       "       [ 1.94441427, -1.61872499],\n",
       "       [ 1.4922382 , -1.33555818],\n",
       "       [-1.00510272, -1.57588977],\n",
       "       [ 1.10417427,  1.37281784],\n",
       "       [ 1.7275031 , -1.78805528],\n",
       "       [ 1.11428491,  1.92121493],\n",
       "       [-1.1180286 ,  1.04401411],\n",
       "       [ 1.06010229,  1.58765987],\n",
       "       [-1.9461215 ,  1.43033114],\n",
       "       [ 1.20391396, -1.06161045],\n",
       "       [-1.18917674, -1.54940903],\n",
       "       [ 1.09081632, -1.618199  ],\n",
       "       [ 1.15117593,  1.74995917],\n",
       "       [-1.62035581, -1.35913883]])"
      ]
     },
     "execution_count": 8,
     "metadata": {},
     "output_type": "execute_result"
    }
   ],
   "source": [
    "testdata = np.random.random(size=(300, 2))*2-1\n",
    "testdata[testdata>=0]+=1\n",
    "testdata[testdata<0]-=1\n",
    "testdata"
   ]
  },
  {
   "cell_type": "code",
   "execution_count": 10,
   "metadata": {},
   "outputs": [
    {
     "data": {
      "text/plain": [
       "<matplotlib.collections.PathCollection at 0x7fb7206f24f0>"
      ]
     },
     "execution_count": 10,
     "metadata": {},
     "output_type": "execute_result"
    },
    {
     "data": {
      "image/png": "[encoded data removed]",
      "text/plain": [
       "<Figure size 640x480 with 1 Axes>"
      ]
     },
     "metadata": {},
     "output_type": "display_data"
    }
   ],
   "source": [
    "plt.scatter([i[0] for i in testdata], [i[1] for i in testdata])"
   ]
  },
  {
   "cell_type": "code",
   "execution_count": 11,
   "metadata": {},
   "outputs": [
    {
     "name": "stderr",
     "output_type": "stream",
     "text": [
      "/usr/bin/spark-3.3.2-bin-hadoop3/python/pyspark/sql/pandas/conversion.py:604: FutureWarning: iteritems is deprecated and will be removed in a future version. Use .items instead.\n",
      "  [(c, t) for (_, c), t in zip(pdf_slice.iteritems(), arrow_types)]\n"
     ]
    }
   ],
   "source": [
    "testdata=spark.createDataFrame(pd.DataFrame(testdata))"
   ]
  },
  {
   "cell_type": "code",
   "execution_count": 12,
   "metadata": {},
   "outputs": [
    {
     "name": "stderr",
     "output_type": "stream",
     "text": [
      "                                                                                \r"
     ]
    }
   ],
   "source": [
    "c = kmeans_parallel(testdata, 4, 2.5)"
   ]
  },
  {
   "cell_type": "code",
   "execution_count": 34,
   "metadata": {
    "scrolled": true
   },
   "outputs": [
    {
     "name": "stderr",
     "output_type": "stream",
     "text": [
      "                                                                                \r"
     ]
    }
   ],
   "source": [
    "#c = kmeans_parallel(kdd, 10, 2.5) ## l should be ~ k/log(N*ndim) to allow for an appropriate number of centroids\n"
   ]
  },
  {
   "cell_type": "code",
   "execution_count": 30,
   "metadata": {},
   "outputs": [],
   "source": [
    "indexes = np.unique(np.random.randint(len(c), size=(8,)))[0:4]"
   ]
  },
  {
   "cell_type": "code",
   "execution_count": 36,
   "metadata": {},
   "outputs": [],
   "source": [
    "cent = spark.createDataFrame(pd.DataFrame(np.array(c)[indexes,0]))"
   ]
  },
  {
   "cell_type": "code",
   "execution_count": null,
   "metadata": {},
   "outputs": [],
   "source": [
    "testdata, _ = kmeans(testdata, c, max_iter=0, local_centr=True)"
   ]
  },
  {
   "cell_type": "code",
   "execution_count": 51,
   "metadata": {},
   "outputs": [
    {
     "name": "stderr",
     "output_type": "stream",
     "text": [
      "                                                                                \r"
     ]
    }
   ],
   "source": [
    "counts = testdata.groupBy(\"centr\").count().collect()"
   ]
  },
  {
   "cell_type": "code",
   "execution_count": 59,
   "metadata": {},
   "outputs": [],
   "source": [
    "counts = sorted(counts)"
   ]
  },
  {
   "cell_type": "code",
   "execution_count": 75,
   "metadata": {},
   "outputs": [
    {
     "name": "stderr",
     "output_type": "stream",
     "text": [
      "/usr/bin/spark-3.3.2-bin-hadoop3/python/pyspark/sql/pandas/conversion.py:604: FutureWarning: iteritems is deprecated and will be removed in a future version. Use .items instead.\n",
      "  [(c, t) for (_, c), t in zip(pdf_slice.iteritems(), arrow_types)]\n"
     ]
    }
   ],
   "source": [
    "cdata = spark.createDataFrame(pd.DataFrame([[*c[i][0], counts[i][1]] for i in range(len(c))], columns=(0,1,\"w\")))\n",
    "cdata = cdata.withColumn(\"w\", col(\"w\").cast(\"double\"))"
   ]
  },
  {
   "cell_type": "code",
   "execution_count": 82,
   "metadata": {
    "scrolled": true
   },
   "outputs": [
    {
     "name": "stderr",
     "output_type": "stream",
     "text": [
      "                                                                                \r"
     ]
    }
   ],
   "source": [
    "cdata, cent = kmeans(cdata, cent, weighted=False)"
   ]
  },
  {
   "cell_type": "code",
   "execution_count": 83,
   "metadata": {},
   "outputs": [
    {
     "name": "stderr",
     "output_type": "stream",
     "text": [
      "                                                                                \r"
     ]
    },
    {
     "data": {
      "text/plain": [
       "[Row(avg(0)=-1.3555790899172668, avg(1)=-1.5740155979874395),\n",
       " Row(avg(0)=1.6018852465072047, avg(1)=-0.1992861213550993),\n",
       " Row(avg(0)=-1.4977775331532237, avg(1)=1.6023244155566259),\n",
       " Row(avg(0)=-1.8507675821146137, avg(1)=-1.0649657084248823)]"
      ]
     },
     "execution_count": 83,
     "metadata": {},
     "output_type": "execute_result"
    }
   ],
   "source": [
    "cent.collect()"
   ]
  }
 ],
 "metadata": {
  "kernelspec": {
   "display_name": "Python 3 (ipykernel)",
   "language": "python",
   "name": "python3"
  },
  "language_info": {
   "codemirror_mode": {
    "name": "ipython",
    "version": 3
   },
   "file_extension": ".py",
   "mimetype": "text/x-python",
   "name": "python",
   "nbconvert_exporter": "python",
   "pygments_lexer": "ipython3",
   "version": "3.9.12"
  }
 },
 "nbformat": 4,
 "nbformat_minor": 2
}
