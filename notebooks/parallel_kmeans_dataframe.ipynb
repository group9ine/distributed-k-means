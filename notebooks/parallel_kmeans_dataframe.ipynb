{
 "cells": [
  {
   "cell_type": "code",
   "execution_count": null,
   "metadata": {},
   "outputs": [],
   "source": [
    "!pip install scikit-learn\n",
    "!pip install seaborn"
   ]
  },
  {
   "cell_type": "code",
   "execution_count": 1,
   "metadata": {},
   "outputs": [],
   "source": [
    "from sklearn.datasets import fetch_kddcup99"
   ]
  },
  {
   "cell_type": "code",
   "execution_count": 2,
   "metadata": {},
   "outputs": [],
   "source": [
    "from pyspark.sql import SparkSession, Window\n",
    "from pyspark.sql.functions import col, udf, array, min as smin, lit, count, isnan, when, sum as ssum\n",
    "from pyspark.sql.types import IntegerType, FloatType\n",
    "from pyspark.ml.feature import MinMaxScaler, VectorAssembler\n",
    "\n",
    "import numpy as np\n",
    "import matplotlib.pyplot as plt\n",
    "import pandas as pd\n",
    "import seaborn as sns"
   ]
  },
  {
   "cell_type": "markdown",
   "metadata": {},
   "source": [
    "# Creating a Spark session"
   ]
  },
  {
   "cell_type": "code",
   "execution_count": 3,
   "metadata": {},
   "outputs": [
    {
     "name": "stderr",
     "output_type": "stream",
     "text": [
      "Setting default log level to \"WARN\".\n",
      "To adjust logging level use sc.setLogLevel(newLevel). For SparkR, use setLogLevel(newLevel).\n"
     ]
    },
    {
     "name": "stdout",
     "output_type": "stream",
     "text": [
      "23/07/11 14:38:38 WARN NativeCodeLoader: Unable to load native-hadoop library for your platform... using builtin-java classes where applicable\n"
     ]
    }
   ],
   "source": [
    "spark = SparkSession.builder \\\n",
    "    .master(\"spark://spark-master:7077\") \\\n",
    "    .appName(\"k-meaner\") \\\n",
    "    .config(\"spark.executor.memory\", \"1024m\") \\\n",
    "    .config(\"spark.sql.execution.arrow.pyspark.enabled\", \"true\") \\\n",
    "    .config(\"spark.sql.execution.arrow.pyspark.fallback.enabled\", \"false\") \\\n",
    "    .getOrCreate()\n",
    "\n",
    "sc = spark.sparkContext\n",
    "sc.setLogLevel(\"ERROR\")\n",
    "\n",
    "#clear old data if rerunning\n",
    "spark.catalog.clearCache() \n",
    "for (id, rdd) in sc._jsc.getPersistentRDDs().items():\n",
    "    rdd.unpersist()"
   ]
  },
  {
   "cell_type": "markdown",
   "metadata": {},
   "source": [
    "# Loading the `kddcup99` dataset"
   ]
  },
  {
   "cell_type": "code",
   "execution_count": 4,
   "metadata": {},
   "outputs": [
    {
     "name": "stderr",
     "output_type": "stream",
     "text": [
      "/usr/bin/spark-3.3.2-bin-hadoop3/python/pyspark/sql/pandas/conversion.py:604: FutureWarning: iteritems is deprecated and will be removed in a future version. Use .items instead.\n",
      "  [(c, t) for (_, c), t in zip(pdf_slice.iteritems(), arrow_types)]\n"
     ]
    }
   ],
   "source": [
    "kdd = spark.createDataFrame(fetch_kddcup99(as_frame=True)[\"frame\"])"
   ]
  },
  {
   "cell_type": "markdown",
   "metadata": {},
   "source": [
    "# Pre-processing\n",
    "We remove the first three “categorical” columns, and keep only the numerical ones. Then we rescale those to a [0, 1] range. Also, we remove two columns that happen to be all zeros. After all, this shouldn’t affect the clustering afterwards."
   ]
  },
  {
   "cell_type": "code",
   "execution_count": 5,
   "metadata": {},
   "outputs": [
    {
     "name": "stdout",
     "output_type": "stream",
     "text": [
      "root\n",
      " |-- duration: long (nullable = true)\n",
      " |-- protocol_type: binary (nullable = true)\n",
      " |-- service: binary (nullable = true)\n",
      " |-- flag: binary (nullable = true)\n",
      " |-- src_bytes: long (nullable = true)\n",
      " |-- dst_bytes: long (nullable = true)\n",
      " |-- land: long (nullable = true)\n",
      " |-- wrong_fragment: long (nullable = true)\n",
      " |-- urgent: long (nullable = true)\n",
      " |-- hot: long (nullable = true)\n",
      " |-- num_failed_logins: long (nullable = true)\n",
      " |-- logged_in: long (nullable = true)\n",
      " |-- num_compromised: long (nullable = true)\n",
      " |-- root_shell: long (nullable = true)\n",
      " |-- su_attempted: long (nullable = true)\n",
      " |-- num_root: long (nullable = true)\n",
      " |-- num_file_creations: long (nullable = true)\n",
      " |-- num_shells: long (nullable = true)\n",
      " |-- num_access_files: long (nullable = true)\n",
      " |-- num_outbound_cmds: long (nullable = true)\n",
      " |-- is_host_login: long (nullable = true)\n",
      " |-- is_guest_login: long (nullable = true)\n",
      " |-- count: long (nullable = true)\n",
      " |-- srv_count: long (nullable = true)\n",
      " |-- serror_rate: double (nullable = true)\n",
      " |-- srv_serror_rate: double (nullable = true)\n",
      " |-- rerror_rate: double (nullable = true)\n",
      " |-- srv_rerror_rate: double (nullable = true)\n",
      " |-- same_srv_rate: double (nullable = true)\n",
      " |-- diff_srv_rate: double (nullable = true)\n",
      " |-- srv_diff_host_rate: double (nullable = true)\n",
      " |-- dst_host_count: long (nullable = true)\n",
      " |-- dst_host_srv_count: long (nullable = true)\n",
      " |-- dst_host_same_srv_rate: double (nullable = true)\n",
      " |-- dst_host_diff_srv_rate: double (nullable = true)\n",
      " |-- dst_host_same_src_port_rate: double (nullable = true)\n",
      " |-- dst_host_srv_diff_host_rate: double (nullable = true)\n",
      " |-- dst_host_serror_rate: double (nullable = true)\n",
      " |-- dst_host_srv_serror_rate: double (nullable = true)\n",
      " |-- dst_host_rerror_rate: double (nullable = true)\n",
      " |-- dst_host_srv_rerror_rate: double (nullable = true)\n",
      " |-- labels: binary (nullable = true)\n",
      "\n"
     ]
    }
   ],
   "source": [
    "kdd.printSchema()"
   ]
  },
  {
   "cell_type": "code",
   "execution_count": 6,
   "metadata": {},
   "outputs": [
    {
     "name": "stderr",
     "output_type": "stream",
     "text": [
      "                                                                                \r"
     ]
    },
    {
     "name": "stdout",
     "output_type": "stream",
     "text": [
      "unsupported operand type(s) for -: 'bytearray' and 'bytearray'\n"
     ]
    }
   ],
   "source": [
    "kdd = kdd.drop(\"protocol_type\")\n",
    "kdd = kdd.drop(\"service\") \n",
    "kdd = kdd.drop(\"flag\")\n",
    "\n",
    "kdd.createOrReplaceTempView(\"kdd_table\")\n",
    "\n",
    "for c in kdd.columns:\n",
    "    try:\n",
    "        limits = spark.sql(\"SELECT min(\" + c + \"), max(\" + c + \") FROM kdd_table\").collect()\n",
    "        #mx = kdd.groupby().max(c).first().asDict()['max('+c+')']\n",
    "        #mn = kdd.groupby().min(c).first().asDict()['min('+c+')']\n",
    "        mn, mx = limits[0][0], limits[0][1]\n",
    "        \n",
    "        if mn==mx:\n",
    "            continue\n",
    "        \n",
    "        \n",
    "        kdd = kdd.withColumn(c, (col(c)-mn)/(mx-mn) )\n",
    "        \n",
    "        #print(limits[0][0], limits[0][1])\n",
    "    except Exception as e:\n",
    "        print(e)\n",
    "\n",
    "kdd = kdd.persist()"
   ]
  },
  {
   "cell_type": "markdown",
   "metadata": {},
   "source": [
    "### Plotting the distribution of attack types…"
   ]
  },
  {
   "cell_type": "code",
   "execution_count": 7,
   "metadata": {},
   "outputs": [
    {
     "name": "stderr",
     "output_type": "stream",
     "text": [
      "/tmp/ipykernel_3949/1192132600.py:3: VisibleDeprecationWarning: Creating an ndarray from ragged nested sequences (which is a list-or-tuple of lists-or-tuples-or ndarrays with different lengths or shapes) is deprecated. If you meant to do this, you must specify 'dtype=object' when creating the ndarray.\n",
      "  attacks = np.array([r[0] for r in res])\n"
     ]
    }
   ],
   "source": [
    "res = spark.sql(\"SELECT labels, count(1) FROM kdd_table GROUP BY labels\").collect()\n",
    "\n",
    "attacks = np.array([r[0] for r in res])\n",
    "counts = np.array([r[1] for r in res])\n",
    "attack_sort = np.argsort(counts)\n",
    "attacks = attacks[attack_sort]\n",
    "counts = counts[attack_sort]\n",
    "\n",
    "ypos = np.arange(len(attacks))"
   ]
  },
  {
   "cell_type": "code",
   "execution_count": 8,
   "metadata": {
    "scrolled": false
   },
   "outputs": [
    {
     "data": {
      "image/png": "[encoded data removed]",
      "text/plain": [
       "<Figure size 1200x600 with 1 Axes>"
      ]
     },
     "metadata": {},
     "output_type": "display_data"
    }
   ],
   "source": [
    "plt.figure(figsize=(12, 6))\n",
    "plt.barh(ypos, np.log10(counts), facecolor=\"gold\")\n",
    "plt.yticks(ypos, labels=[a.decode(\"utf-8\")[0:-1] for a in attacks])\n",
    "plt.xlabel(r\"$\\log_{10}(\\mathrm{count})$\")\n",
    "plt.ylabel(\"Attack type\")\n",
    "plt.show()"
   ]
  },
  {
   "cell_type": "markdown",
   "metadata": {},
   "source": [
    "## Start on k-means basic algo"
   ]
  },
  {
   "cell_type": "code",
   "execution_count": 10,
   "metadata": {},
   "outputs": [],
   "source": [
    "index_udf = udf(lambda row:attacks.tolist().index(row) )\n",
    "kdd = kdd.withColumn(\"labels\", index_udf(col(\"labels\")).cast(\"int\"))"
   ]
  },
  {
   "cell_type": "code",
   "execution_count": 11,
   "metadata": {},
   "outputs": [],
   "source": [
    "ignored_cols = [\"labels\", \"centr\", \"cost\", \"p\", \"w\"]"
   ]
  },
  {
   "cell_type": "code",
   "execution_count": 12,
   "metadata": {},
   "outputs": [],
   "source": [
    "kdd = kdd.withColumn(\"centr\", lit(-1))\n",
    "kdd = kdd.withColumn(\"cost\", lit(0.))\n",
    "kdd = kdd.withColumn(\"p\", lit(0.))\n",
    "\n",
    "ncols = len([c for c in kdd.columns if c not in ignored_cols])"
   ]
  },
  {
   "cell_type": "code",
   "execution_count": 13,
   "metadata": {},
   "outputs": [
    {
     "data": {
      "text/plain": [
       "DataFrame[duration: double, src_bytes: double, dst_bytes: double, land: double, wrong_fragment: double, urgent: double, hot: double, num_failed_logins: double, logged_in: double, num_compromised: double, root_shell: double, su_attempted: double, num_root: double, num_file_creations: double, num_shells: double, num_access_files: double, num_outbound_cmds: bigint, is_host_login: bigint, is_guest_login: double, count: double, srv_count: double, serror_rate: double, srv_serror_rate: double, rerror_rate: double, srv_rerror_rate: double, same_srv_rate: double, diff_srv_rate: double, srv_diff_host_rate: double, dst_host_count: double, dst_host_srv_count: double, dst_host_same_srv_rate: double, dst_host_diff_srv_rate: double, dst_host_same_src_port_rate: double, dst_host_srv_diff_host_rate: double, dst_host_serror_rate: double, dst_host_srv_serror_rate: double, dst_host_rerror_rate: double, dst_host_srv_rerror_rate: double, labels: int, centr: int, cost: double, p: double]"
      ]
     },
     "execution_count": 13,
     "metadata": {},
     "output_type": "execute_result"
    }
   ],
   "source": [
    "kdd"
   ]
  },
  {
   "cell_type": "code",
   "execution_count": 14,
   "metadata": {},
   "outputs": [],
   "source": [
    "def dist(x,y):\n",
    "    try:\n",
    "        #return (((np.array(x)-y)**2).sum())**0.5\n",
    "        return np.linalg.norm(np.array(x)-np.array(y))\n",
    "    except Exception as e:\n",
    "        print(e)\n",
    "        return ncols\n",
    "\n",
    "def argcomp(comp,func, arr, *params):\n",
    "    res = [func(arr[i], *params) for i in range(len(arr))]\n",
    "    #print(res)\n",
    "    return res.index(comp(res))\n"
   ]
  },
  {
   "cell_type": "markdown",
   "metadata": {},
   "source": [
    "### Lloyd Iteration"
   ]
  },
  {
   "cell_type": "code",
   "execution_count": 15,
   "metadata": {},
   "outputs": [],
   "source": [
    "def kmeans(data, centers, max_iter=100, weighted=False, local_centr=False, return_cost=False):\n",
    "    count = 0\n",
    "    \n",
    "    \n",
    "    cols = data.columns\n",
    "    \n",
    "    cost = float(\"inf\")\n",
    "    \n",
    "    while count<=max_iter:\n",
    "        if local_centr:\n",
    "            cc = centers\n",
    "            local_centr = False\n",
    "        else:\n",
    "            cc = centers.collect()\n",
    "        #print(cc)\n",
    "        \n",
    "        ## set center affiliation\n",
    "        argmindist_udf = udf(lambda row: argcomp(min,dist,cc,row), IntegerType())\n",
    "        data = data.withColumn(\"centr\", argmindist_udf(array([c for c in cols if c not in ignored_cols])))\n",
    "        \n",
    "        ## calculate new centers\n",
    "        if not weighted:\n",
    "            centers = data.groupBy(\"centr\").mean().select(*[col(\"avg(\"+c+\")\") for c in data.columns if c not in ignored_cols])\n",
    "        else:\n",
    "            centers = data.rdd.map(\n",
    "                lambda x: (x[\"centr\"],(np.array([x[c] for c in cols if c not in ignored_cols]),x[\"w\"]))\n",
    "            ).reduceByKey(\n",
    "                lambda x,y: ((x[0]*x[1]+y[0]*y[1])/(x[1]+y[1]), x[1]+y[1])\n",
    "            ).map(lambda x: x[1][0])\n",
    "        \n",
    "        get_cost = udf(lambda row: str(min([dist(row, cen)**2 for cen in cc])))\n",
    "        \n",
    "        data = data.withColumn(\"cost\", get_cost(array([c for c in cols if c not in ignored_cols])).cast(\"double\"))\n",
    "        newcost = data.select(\"cost\").groupBy().sum().collect()[0][0]\n",
    "        \n",
    "        count+=1\n",
    "        if newcost/cost>0.99:\n",
    "            break\n",
    "        \n",
    "        cost=newcost\n",
    "            \n",
    "    if return_cost:\n",
    "        return data, centers, cost\n",
    "    else:\n",
    "        return data, centers"
   ]
  },
  {
   "cell_type": "markdown",
   "metadata": {},
   "source": [
    "### stupid init\n",
    "###### stupid, innit?"
   ]
  },
  {
   "cell_type": "code",
   "execution_count": 17,
   "metadata": {},
   "outputs": [],
   "source": [
    "def uniform_init(k, mn=0, mx=1):\n",
    "    return pd.DataFrame(np.random.random(size=(k, ncols))*(mx-mn) - mn)"
   ]
  },
  {
   "cell_type": "code",
   "execution_count": 21,
   "metadata": {},
   "outputs": [
    {
     "name": "stderr",
     "output_type": "stream",
     "text": [
      "                                                                                \r"
     ]
    }
   ],
   "source": [
    "unif_data, _ = kmeans(kdd, uniform_init(len(attacks)), local_centr=True)"
   ]
  },
  {
   "cell_type": "markdown",
   "metadata": {},
   "source": [
    "## K-means||"
   ]
  },
  {
   "cell_type": "code",
   "execution_count": 22,
   "metadata": {},
   "outputs": [],
   "source": [
    "def kmeans_parallel(data, k, l):\n",
    "    centr = data.select(array([c for c in data.columns if c not in ignored_cols])).rdd.takeSample(True,2)\n",
    "    #define get_cost using udf on min(dist(row,centr[i]))\n",
    "    get_cost = udf(lambda row: str(min([dist(row, cen)**2 for cen in centr])))\n",
    "    \n",
    "    data = data.withColumn(\"cost\", get_cost(array([c for c in data.columns if c not in ignored_cols])).cast(\"double\"))\n",
    "    \n",
    "    cost = data.select(\"cost\").groupBy().sum().collect()[0][0]\n",
    "    \n",
    "    for i in range(int(np.log(cost))):\n",
    "        #re-define get_cost using udf on min(dist(row,centr[i]))\n",
    "        get_cost = udf(lambda row: str(min([dist(row, cen)**2 for cen in centr])))\n",
    "        data = data.withColumn(\"cost\", get_cost(array([c for c in data.columns if c not in ignored_cols])).cast(\"double\"))\n",
    "        cost = data.select(\"cost\").groupBy().sum().collect()[0][0]\n",
    "        \n",
    "        data = data.withColumn(\"p\", udf(lambda row: np.random.random())(col(\"cost\")))\n",
    "        \n",
    "        centr.extend( data.where( data[\"cost\"] * l > cost * data[\"p\"]).select(array([c for c in data.columns if c not in ignored_cols])).collect() )\n",
    "    \n",
    "    ## search for possible identical centroids ? \n",
    "    #should be taken care of thanks to the weighting, I think\n",
    "    \n",
    "    if len(centr) > k: \n",
    "        #get weights\n",
    "        data, _ = kmeans(data, centr, max_iter=0, local_centr=True)\n",
    "        counts = data.groupBy(\"centr\").count().collect()\n",
    "        counts = sorted(counts)\n",
    "        \n",
    "        #parallelize the centroid dataset\n",
    "        cdata = spark.createDataFrame(pd.DataFrame([[*centr[i][0], counts[i][1]] for i in range(len(centr))], columns=(0,1,\"w\")))\n",
    "        cdata = cdata.withColumn(\"w\", col(\"w\").cast(\"double\"))\n",
    "        \n",
    "        ## basically kmeans++ on the centroids as init for the weighted k-means\n",
    "        c = [centr[np.random.randint(len(centr))]]\n",
    "        for i in range(k-1):\n",
    "            costs = [min([dist(centr[j], c[k])**2 for k in range(len(c))]) for j in range(len(centr))]\n",
    "            p = np.cumsum(costs)\n",
    "            p/= p[-1]\n",
    "            c.append(centr[(p>np.random.random()).tolist().index(True)])\n",
    "        \n",
    "        \n",
    "        _, centr = kmeans(cdata, c, local_centr=True, weighted=True)\n",
    "        centr = centr.collect()\n",
    "    return centr"
   ]
  },
  {
   "cell_type": "markdown",
   "metadata": {},
   "source": [
    "testdata = np.random.random(size=(300, 2))*2-1\n",
    "testdata[testdata>=0]+=1\n",
    "testdata[testdata<0]-=1\n",
    "testdata"
   ]
  },
  {
   "cell_type": "markdown",
   "metadata": {},
   "source": [
    "plt.scatter([i[0] for i in testdata], [i[1] for i in testdata])"
   ]
  },
  {
   "cell_type": "markdown",
   "metadata": {},
   "source": [
    "testdata=spark.createDataFrame(pd.DataFrame(testdata))"
   ]
  },
  {
   "cell_type": "markdown",
   "metadata": {},
   "source": [
    "c = kmeans_parallel(testdata, 4, 2.5)"
   ]
  },
  {
   "cell_type": "code",
   "execution_count": 23,
   "metadata": {
    "scrolled": true
   },
   "outputs": [
    {
     "name": "stderr",
     "output_type": "stream",
     "text": [
      "                                                                                \r"
     ]
    }
   ],
   "source": [
    "c = kmeans_parallel(kdd, len(attacks), 2.5) ## l should be ~ k/log(N*ndim) to allow for an appropriate number of centroids\n"
   ]
  },
  {
   "cell_type": "code",
   "execution_count": 25,
   "metadata": {},
   "outputs": [
    {
     "name": "stderr",
     "output_type": "stream",
     "text": [
      "                                                                                \r"
     ]
    }
   ],
   "source": [
    "per_data, _ = kmeans(kdd, c, local_centr=True)"
   ]
  },
  {
   "cell_type": "markdown",
   "metadata": {},
   "source": [
    "colors=[\"black\", \"green\", \"red\", \"blue\"]\n",
    "plt.scatter([d[0] for d in data_k_l], [d[1] for d in data_k_l], color=[colors[d[\"centr\"]] for d in data_k_l], s=2)\n",
    "plt.scatter([d[0] for d in c_k], [d[1] for d in c_k], color=\"orange\", s=20)"
   ]
  },
  {
   "cell_type": "markdown",
   "metadata": {},
   "source": [
    "## Mini-batch k-means"
   ]
  },
  {
   "cell_type": "code",
   "execution_count": 28,
   "metadata": {},
   "outputs": [],
   "source": [
    "def mini_b(data,batch_size,n_cent,l_rate=0.05,max_it=None):\n",
    "    if max_it is None:\n",
    "        max_it = int(2/batch_size) #standard (is it?) amount of iterations\n",
    "    \n",
    "    #first centroids initialization\n",
    "    initialCentroids = data.sample(batch_size).limit(n_cent).select(*[col(c) for c in data.columns if c not in ignored_cols])\n",
    "    initialCentroids = np.array(initialCentroids.collect())\n",
    "    \n",
    "    miniBatch = data.sample(batch_size)\n",
    "    _, _, cost = kmeans(miniBatch,initialCentroids, local_centr=True, max_iter=0, return_cost=True)\n",
    "    \n",
    "    #centroids update\n",
    "    for _ in range(max_it):\n",
    "        miniBatch = data.sample(batch_size)\n",
    "        \n",
    "        _,newCentroids, newcost = kmeans(miniBatch,initialCentroids, local_centr=True, max_iter=5, return_cost=True)\n",
    "        \n",
    "        newCentroids = np.array(newCentroids.collect())\n",
    "        \n",
    "        #sort centroids to minimize reciprocal distance by finding the optimal permutation on newCentroids\n",
    "        \n",
    "        distances = np.linalg.norm(initialCentroids[:, np.newaxis] - newCentroids, axis=2)\n",
    "        permutation = np.argmin(np.sum(distances, axis=0))\n",
    "        newCentroids = newCentroids[permutation]\n",
    "        \n",
    "        initialCentroids = (1-l_rate) * initialCentroids + newCentroids * l_rate\n",
    "        \n",
    "        if newcost/cost>0.99:\n",
    "            break\n",
    "        else:\n",
    "            cost=newcost\n",
    "\n",
    "    return initialCentroids"
   ]
  },
  {
   "cell_type": "code",
   "execution_count": 29,
   "metadata": {},
   "outputs": [
    {
     "name": "stderr",
     "output_type": "stream",
     "text": [
      "                                                                                \r"
     ]
    }
   ],
   "source": [
    "newcenters = mini_b(kdd,0.2,len(attacks),0.05,10)"
   ]
  },
  {
   "cell_type": "code",
   "execution_count": 30,
   "metadata": {},
   "outputs": [
    {
     "name": "stderr",
     "output_type": "stream",
     "text": [
      "                                                                                \r"
     ]
    }
   ],
   "source": [
    "mini_data,_=kmeans(kdd,newcenters, local_centr=True)"
   ]
  },
  {
   "cell_type": "markdown",
   "metadata": {},
   "source": [
    "##### check results\n",
    "#print(d, len(d))\n",
    "mat = [[0 for i in range(4)] for j in range(4)]\n",
    "for i in range(4):\n",
    "    for j in range(4):\n",
    "        for k in range(len(d)):\n",
    "            mat[i][j] += ((d[k][\"labels\"] == i) and (d[k][\"centr\"] == j))\n",
    "mat"
   ]
  },
  {
   "cell_type": "code",
   "execution_count": 31,
   "metadata": {},
   "outputs": [
    {
     "name": "stderr",
     "output_type": "stream",
     "text": [
      "                                                                                \r"
     ]
    }
   ],
   "source": [
    "u_data = unif_data.select(\"labels\", \"centr\").groupBy(\"labels\", \"centr\").count().collect()\n",
    "p_data = per_data.select(\"labels\", \"centr\").groupBy(\"labels\", \"centr\").count().collect()\n",
    "m_data = mini_data.select(\"labels\", \"centr\").groupBy(\"labels\", \"centr\").count().collect()"
   ]
  },
  {
   "cell_type": "code",
   "execution_count": 54,
   "metadata": {},
   "outputs": [],
   "source": [
    "u_mat = np.zeros(shape= ((np.max(u_data, axis=0)+1)[0:2]).tolist())\n",
    "p_mat = np.zeros(shape= ((np.max(p_data, axis=0)+1)[0:2]).tolist())\n",
    "m_mat = np.zeros(shape= ((np.max(m_data, axis=0)+1)[0:2]).tolist())"
   ]
  },
  {
   "cell_type": "code",
   "execution_count": 66,
   "metadata": {},
   "outputs": [],
   "source": [
    "for d in u_data:\n",
    "    u_mat[d[0]][d[1]]=np.log10(d[2])\n",
    "\n",
    "for d in p_data:\n",
    "    p_mat[d[0]][d[1]]=np.log10(d[2])\n",
    "\n",
    "for d in m_data:\n",
    "    m_mat[d[0]][d[1]]=np.log10(d[2])\n"
   ]
  },
  {
   "cell_type": "code",
   "execution_count": 68,
   "metadata": {},
   "outputs": [
    {
     "data": {
      "image/png": "[encoded data removed]",
      "text/plain": [
       "<Figure size 2000x500 with 6 Axes>"
      ]
     },
     "metadata": {},
     "output_type": "display_data"
    }
   ],
   "source": [
    "fig, ax=plt.subplots(ncols=3, figsize=(20,5))\n",
    "sns.heatmap(u_mat, ax=ax[0])\n",
    "sns.heatmap(p_mat, ax=ax[1])\n",
    "sns.heatmap(m_mat, ax=ax[2])\n",
    "fig.tight_layout()"
   ]
  },
  {
   "cell_type": "markdown",
   "metadata": {},
   "source": [
    "## Close session"
   ]
  },
  {
   "cell_type": "code",
   "execution_count": null,
   "metadata": {},
   "outputs": [],
   "source": [
    "sc.stop()\n",
    "spark.stop()"
   ]
  }
 ],
 "metadata": {
  "kernelspec": {
   "display_name": "Python 3 (ipykernel)",
   "language": "python",
   "name": "python3"
  },
  "language_info": {
   "codemirror_mode": {
    "name": "ipython",
    "version": 3
   },
   "file_extension": ".py",
   "mimetype": "text/x-python",
   "name": "python",
   "nbconvert_exporter": "python",
   "pygments_lexer": "ipython3",
   "version": "3.9.12"
  }
 },
 "nbformat": 4,
 "nbformat_minor": 2
}
