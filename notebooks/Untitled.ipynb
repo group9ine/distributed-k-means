{
 "cells": [
  {
   "cell_type": "code",
   "execution_count": 1,
   "id": "598af5ed",
   "metadata": {},
   "outputs": [
    {
     "name": "stderr",
     "output_type": "stream",
     "text": [
      "Setting default log level to \"WARN\".\n",
      "To adjust logging level use sc.setLogLevel(newLevel). For SparkR, use setLogLevel(newLevel).\n"
     ]
    },
    {
     "name": "stdout",
     "output_type": "stream",
     "text": [
      "23/07/04 08:58:14 WARN NativeCodeLoader: Unable to load native-hadoop library for your platform... using builtin-java classes where applicable\n"
     ]
    }
   ],
   "source": [
    "# import the python libraries to create/connect to a Spark Session\n",
    "from pyspark.sql import SparkSession\n",
    "\n",
    "# build a SparkSession \n",
    "#   connect to the master node on the port where the master node is listening (7077)\n",
    "#   declare the app name \n",
    "#   configure the executor memory to 512 MB\n",
    "#   either *connect* or *create* a new Spark Context\n",
    "spark = SparkSession.builder \\\n",
    "    .master(\"spark://spark-master:7077\")\\\n",
    "    .appName(\"MAPD project tryout\")\\\n",
    "    .config(\"spark.executor.memory\", \"512m\")\\\n",
    "    .getOrCreate()\n",
    "\n",
    "sc = spark.sparkContext"
   ]
  },
  {
   "cell_type": "code",
   "execution_count": 2,
   "id": "470f51d7",
   "metadata": {},
   "outputs": [],
   "source": [
    "import numpy as np\n",
    "data = np.load(\"kdd.npz\", allow_pickle=True)[\"arr_0\"]\n",
    "target = np.load(\"kdd_target.npz\", allow_pickle=True)[\"arr_0\"]"
   ]
  },
  {
   "cell_type": "code",
   "execution_count": 3,
   "id": "c7d88f7b",
   "metadata": {},
   "outputs": [],
   "source": [
    "mydata = data[:, [i for i in range(len(data[0,:])) if i not in [1,2,3, 19, 20]]] \n",
    "##col 10 is only 0, the others are categorical\n",
    "\n",
    "mins = mydata.min(axis=0)\n",
    "maxs = mydata.max(axis=0)\n",
    "\n",
    "#print(maxs==mins)\n",
    "mydata = [[0,(mydata[j]-mins)/(maxs-mins), target[j]] for j in range(len(mydata))]\n",
    "\n",
    "ncols = len(mydata[0][1])"
   ]
  },
  {
   "cell_type": "code",
   "execution_count": 4,
   "id": "5116efdb",
   "metadata": {},
   "outputs": [
    {
     "ename": "AttributeError",
     "evalue": "'SparkContext' object has no attribute 'createDataFrame'",
     "output_type": "error",
     "traceback": [
      "\u001b[0;31m---------------------------------------------------------------------------\u001b[0m",
      "\u001b[0;31mAttributeError\u001b[0m                            Traceback (most recent call last)",
      "Cell \u001b[0;32mIn[4], line 2\u001b[0m\n\u001b[1;32m      1\u001b[0m \u001b[38;5;66;03m#mydata = sc.parallelize(mydata)\u001b[39;00m\n\u001b[0;32m----> 2\u001b[0m mydata \u001b[38;5;241m=\u001b[39m \u001b[43msc\u001b[49m\u001b[38;5;241;43m.\u001b[39;49m\u001b[43mcreateDataFrame\u001b[49m(mydata)\n",
      "\u001b[0;31mAttributeError\u001b[0m: 'SparkContext' object has no attribute 'createDataFrame'"
     ]
    }
   ],
   "source": [
    "#mydata = sc.parallelize(mydata)\n",
    "mydata = sc.createDataFrame(mydata)"
   ]
  },
  {
   "cell_type": "code",
   "execution_count": null,
   "id": "800af667",
   "metadata": {},
   "outputs": [],
   "source": [
    "mydata.printSchema()"
   ]
  },
  {
   "cell_type": "code",
   "execution_count": null,
   "id": "7e02981f",
   "metadata": {},
   "outputs": [],
   "source": [
    "# data = [[label, (x_i)], ]\n",
    "\n",
    "def dist(x,y):\n",
    "    return (((x-y)**2).sum())**0.5\n",
    "\n",
    "def argcomp(comp,func, arr, *params):\n",
    "    res = [func(arr[i], *params) for i in range(len(arr))]\n",
    "    return res.index(comp(res))\n",
    "\n",
    "\n",
    "#centers = data.reduceByKey(np.mean) # subs with k-means|| initialization\n",
    "\n",
    "###################################### actual k-means\n",
    "def kmeans(data, centers):\n",
    "    count = 0\n",
    "    while True:\n",
    "        data = data.map(lambda x: [argcomp(min,dist,centers,x), x[1]])\n",
    "        #newcenters = data.reduceByKey(lambda x,y: np.mean([x,y], axis=1))\n",
    "        newcenters = data.groupBy(\"0\")\n",
    "        count+=1\n",
    "        if count>100:#(newcenters-centers).mean() < 0.01:\n",
    "            break\n",
    "        else:\n",
    "            centers = newcenters\n",
    "    \n",
    "    return centers"
   ]
  },
  {
   "cell_type": "code",
   "execution_count": null,
   "id": "f5a637ea",
   "metadata": {},
   "outputs": [],
   "source": [
    "centers = np.random.random(size=(ncols,))"
   ]
  },
  {
   "cell_type": "code",
   "execution_count": null,
   "id": "fcad8308",
   "metadata": {},
   "outputs": [],
   "source": [
    "kmeans(mydata, centers)"
   ]
  }
 ],
 "metadata": {
  "kernelspec": {
   "display_name": "Python 3 (ipykernel)",
   "language": "python",
   "name": "python3"
  },
  "language_info": {
   "codemirror_mode": {
    "name": "ipython",
    "version": 3
   },
   "file_extension": ".py",
   "mimetype": "text/x-python",
   "name": "python",
   "nbconvert_exporter": "python",
   "pygments_lexer": "ipython3",
   "version": "3.9.12"
  }
 },
 "nbformat": 4,
 "nbformat_minor": 5
}
